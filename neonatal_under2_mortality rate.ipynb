{
 "cells": [
  {
   "cell_type": "code",
   "execution_count": 8,
   "id": "111ce69f-a358-4692-bff6-995b49297f96",
   "metadata": {},
   "outputs": [],
   "source": [
    "library(dplyr)      \n",
    "library(readr)      \n",
    "library(stringr)    \n",
    "library(ggplot2)    \n",
    "library(patchwork)  \n",
    "library(sf)\n",
    "library(dplyr)\n",
    "library(ggplot2)\n",
    "library(tidyr)\n",
    "library(tidyverse)\n",
    "library(conflicted)\n",
    "library(viridis)"
   ]
  },
  {
   "cell_type": "code",
   "execution_count": 64,
   "id": "a3781ac4-ab4a-4706-99d2-619ea1e27d89",
   "metadata": {},
   "outputs": [
    {
     "name": "stdout",
     "output_type": "stream",
     "text": [
      "Rows: 0\n",
      "Columns: 6\n",
      "$ country   \u001b[3m\u001b[90m<chr>\u001b[39m\u001b[23m \n",
      "$ year      \u001b[3m\u001b[90m<dbl>\u001b[39m\u001b[23m \n",
      "$ value     \u001b[3m\u001b[90m<dbl>\u001b[39m\u001b[23m \n",
      "$ lower     \u001b[3m\u001b[90m<dbl>\u001b[39m\u001b[23m \n",
      "$ upper     \u001b[3m\u001b[90m<dbl>\u001b[39m\u001b[23m \n",
      "$ indicator \u001b[3m\u001b[90m<chr>\u001b[39m\u001b[23m \n"
     ]
    },
    {
     "data": {
      "text/html": [
       "<table class=\"dataframe\">\n",
       "<caption>A tibble: 0 × 6</caption>\n",
       "<thead>\n",
       "\t<tr><th scope=col>country</th><th scope=col>year</th><th scope=col>value</th><th scope=col>lower</th><th scope=col>upper</th><th scope=col>indicator</th></tr>\n",
       "\t<tr><th scope=col>&lt;chr&gt;</th><th scope=col>&lt;dbl&gt;</th><th scope=col>&lt;dbl&gt;</th><th scope=col>&lt;dbl&gt;</th><th scope=col>&lt;dbl&gt;</th><th scope=col>&lt;chr&gt;</th></tr>\n",
       "</thead>\n",
       "<tbody>\n",
       "</tbody>\n",
       "</table>\n"
      ],
      "text/latex": [
       "A tibble: 0 × 6\n",
       "\\begin{tabular}{llllll}\n",
       " country & year & value & lower & upper & indicator\\\\\n",
       " <chr> & <dbl> & <dbl> & <dbl> & <dbl> & <chr>\\\\\n",
       "\\hline\n",
       "\\end{tabular}\n"
      ],
      "text/markdown": [
       "\n",
       "A tibble: 0 × 6\n",
       "\n",
       "| country &lt;chr&gt; | year &lt;dbl&gt; | value &lt;dbl&gt; | lower &lt;dbl&gt; | upper &lt;dbl&gt; | indicator &lt;chr&gt; |\n",
       "|---|---|---|---|---|---|\n",
       "\n"
      ],
      "text/plain": [
       "     country year value lower upper indicator"
      ]
     },
     "metadata": {},
     "output_type": "display_data"
    }
   ],
   "source": [
    "# Load necessary libraries\n",
    "library(dplyr)\n",
    "library(readr)\n",
    "library(stringr)\n",
    "\n",
    "# Load neonatal mortality data\n",
    "neo_mortality <- read_csv(\"C:/Users/Administrator/Downloads/internship_task_dscience-main/internship_task_dscience-main/neonatal_mortality_rate.csv\",\n",
    "                         show_col_types = FALSE) %>%\n",
    "  select(\n",
    "    country = REF_AREA,\n",
    "    year = TIME_PERIOD,\n",
    "    value = OBS_VALUE,\n",
    "    lower = LOWER_BOUND,\n",
    "    upper = UPPER_BOUND\n",
    "  ) %>%\n",
    "  mutate(\n",
    "    year = as.numeric(str_sub(year, 1, 4)),  # Extract year (e.g., \"1990-06\" → 1990)\n",
    "    indicator = \"Neonatal mortality rate (per 1,000 live births)\"\n",
    "  )\n",
    "\n",
    "# Load under-five mortality data\n",
    "under5_mortality <- read_csv(\"C:/Users/Administrator/Downloads/internship_task_dscience-main/internship_task_dscience-main/under_five mortality rate.csv\",\n",
    "                            show_col_types = FALSE) %>%\n",
    "  select(\n",
    "    country = REF_AREA,\n",
    "    year = TIME_PERIOD,\n",
    "    value = OBS_VALUE,\n",
    "    lower = LOWER_BOUND,\n",
    "    upper = UPPER_BOUND\n",
    "  ) %>%\n",
    "  mutate(\n",
    "    year = as.numeric(str_sub(year, 1, 4)),  # Extract year\n",
    "    indicator = \"Under-five mortality rate (per 1,000 live births)\"\n",
    "  )\n",
    "\n",
    "# Combine datasets\n",
    "combined_mortality <- bind_rows(neo_mortality, under5_mortality)\n",
    "\n",
    "eac_countries <- c(\n",
    "  \"Burundi\", \"Kenya\", \"Rwanda\", \"South Sudan\", \"Tanzania\", \n",
    "  \"Uganda\", \"Democratic Republic of the Congo\", \"Somalia\"\n",
    ")\n",
    "\n",
    "# Filter data for the East African Community countries\n",
    "eac_mortality_data <- combined_mortality %>%\n",
    "  filter(country %in% eac_countries)\n",
    "\n",
    "# Verify the filtered data\n",
    "glimpse(eac_mortality_data)\n",
    "head(eac_mortality_data)\n"
   ]
  },
  {
   "cell_type": "code",
   "execution_count": 51,
   "id": "2b9b5485-663f-4b4b-ae56-de8cc1d8c13c",
   "metadata": {},
   "outputs": [
    {
     "name": "stdout",
     "output_type": "stream",
     "text": [
      "Reading layer `gadm41_BDI_0' from data source \n",
      "  `C:\\Users\\Administrator\\Downloads\\shirleen matimbai.rmd\\gadm41_BDI_shp\\gadm41_BDI_0.shp' \n",
      "  using driver `ESRI Shapefile'\n",
      "Simple feature collection with 1 feature and 2 fields\n",
      "Geometry type: POLYGON\n",
      "Dimension:     XY\n",
      "Bounding box:  xmin: 29.00035 ymin: -4.470001 xmax: 30.85023 ymax: -2.309823\n",
      "Geodetic CRS:  WGS 84\n",
      "Reading layer `gadm41_COD_0' from data source \n",
      "  `C:\\Users\\Administrator\\Downloads\\shirleen matimbai.rmd\\gadm41_COD_shp\\gadm41_COD_0.shp' \n",
      "  using driver `ESRI Shapefile'\n",
      "Simple feature collection with 1 feature and 2 fields\n",
      "Geometry type: MULTIPOLYGON\n",
      "Dimension:     XY\n",
      "Bounding box:  xmin: 12.20153 ymin: -13.45248 xmax: 31.30572 ymax: 5.386098\n",
      "Geodetic CRS:  WGS 84\n",
      "Reading layer `gadm41_KEN_0' from data source \n",
      "  `C:\\Users\\Administrator\\Downloads\\shirleen matimbai.rmd\\gadm41_KEN_shp\\gadm41_KEN_0.shp' \n",
      "  using driver `ESRI Shapefile'\n",
      "Simple feature collection with 1 feature and 2 fields\n",
      "Geometry type: MULTIPOLYGON\n",
      "Dimension:     XY\n",
      "Bounding box:  xmin: 33.90959 ymin: -4.720417 xmax: 41.92622 ymax: 5.061166\n",
      "Geodetic CRS:  WGS 84\n",
      "Reading layer `gadm41_SOM_0' from data source \n",
      "  `C:\\Users\\Administrator\\Downloads\\shirleen matimbai.rmd\\gadm41_SOM_shp\\gadm41_SOM_0.shp' \n",
      "  using driver `ESRI Shapefile'\n",
      "Simple feature collection with 1 feature and 2 fields\n",
      "Geometry type: MULTIPOLYGON\n",
      "Dimension:     XY\n",
      "Bounding box:  xmin: 40.9785 ymin: -1.647082 xmax: 51.4157 ymax: 11.98931\n",
      "Geodetic CRS:  WGS 84\n",
      "Reading layer `gadm41_SSD_0' from data source \n",
      "  `C:\\Users\\Administrator\\Downloads\\shirleen matimbai.rmd\\gadm41_SSD_shp\\gadm41_SSD_0.shp' \n",
      "  using driver `ESRI Shapefile'\n",
      "Simple feature collection with 1 feature and 2 fields\n",
      "Geometry type: POLYGON\n",
      "Dimension:     XY\n",
      "Bounding box:  xmin: 24.15193 ymin: 3.480999 xmax: 35.86995 ymax: 12.219\n",
      "Geodetic CRS:  WGS 84\n",
      "Reading layer `gadm41_TZA_0' from data source \n",
      "  `C:\\Users\\Administrator\\Downloads\\shirleen matimbai.rmd\\gadm41_TZA_shp\\gadm41_TZA_0.shp' \n",
      "  using driver `ESRI Shapefile'\n",
      "Simple feature collection with 1 feature and 2 fields\n",
      "Geometry type: MULTIPOLYGON\n",
      "Dimension:     XY\n",
      "Bounding box:  xmin: 29.32717 ymin: -11.7457 xmax: 40.44514 ymax: -0.9857875\n",
      "Geodetic CRS:  WGS 84\n",
      "Reading layer `gadm41_UGA_0' from data source \n",
      "  `C:\\Users\\Administrator\\Downloads\\shirleen matimbai.rmd\\gadm41_UGA_shp\\gadm41_UGA_0.shp' \n",
      "  using driver `ESRI Shapefile'\n",
      "Simple feature collection with 1 feature and 2 fields\n",
      "Geometry type: POLYGON\n",
      "Dimension:     XY\n",
      "Bounding box:  xmin: 29.5715 ymin: -1.48214 xmax: 35.00027 ymax: 4.234466\n",
      "Geodetic CRS:  WGS 84\n"
     ]
    },
    {
     "data": {
      "image/png": "[encoded data removed]",
      "text/plain": [
       "plot without title"
      ]
     },
     "metadata": {
      "image/png": {
       "height": 420,
       "width": 420
      }
     },
     "output_type": "display_data"
    }
   ],
   "source": [
    "# List of country shapefile folders\n",
    "eac_files <- list(\n",
    "  \"C:/Users/Administrator/Downloads/shirleen matimbai.rmd/gadm41_BDI_shp/gadm41_BDI_0.shp\", # Burundi\n",
    "  \"C:/Users/Administrator/Downloads/shirleen matimbai.rmd/gadm41_COD_shp/gadm41_COD_0.shp\", # DR Congo\n",
    "  \"C:/Users/Administrator/Downloads/shirleen matimbai.rmd/gadm41_KEN_shp/gadm41_KEN_0.shp\", # Kenya\n",
    "  \"C:/Users/Administrator/Downloads/shirleen matimbai.rmd/gadm41_SOM_shp/gadm41_SOM_0.shp\", # Somalia\n",
    "  \"C:/Users/Administrator/Downloads/shirleen matimbai.rmd/gadm41_SSD_shp/gadm41_SSD_0.shp\", # South Sudan\n",
    "  \"C:/Users/Administrator/Downloads/shirleen matimbai.rmd/gadm41_TZA_shp/gadm41_TZA_0.shp\", # Tanzania\n",
    "  \"C:/Users/Administrator/Downloads/shirleen matimbai.rmd/gadm41_UGA_shp/gadm41_UGA_0.shp\"  # Uganda\n",
    ")\n",
    "\n",
    "eac_map <- do.call(rbind, lapply(eac_files, st_read))\n",
    "\n",
    "# Plot to check\n",
    "ggplot(eac_map) +\n",
    "  geom_sf(fill = \"lightblue\", color = \"black\") +\n",
    "  theme_minimal() +\n",
    "  labs(title = \"East African Community Countries Map\")"
   ]
  },
  {
   "cell_type": "code",
   "execution_count": 37,
   "id": "1ab9e2b2-118b-49b7-9a48-ba3a1960ccc4",
   "metadata": {},
   "outputs": [],
   "source": [
    "under5_plot <- combined_mortality %>%\n",
    "  filter(indicator == \"Under-five mortality rate (per 1,000 live births)\") %>%\n",
    "  ggplot(aes(x = year, y = value)) +\n",
    "  geom_line(color = \"#56B4E9\", linewidth = 1) +\n",
    "  geom_ribbon(aes(ymin = lower, ymax = upper), fill = \"#56B4E9\", alpha = 0.2) +\n",
    "  labs(\n",
    "    title = \"Under-Five Mortality Trend in Sub-Saharan Africa (1980–2023)\",\n",
    "    x = \"Year\",\n",
    "    y = \"Deaths per 1,000 live births\"\n",
    "  ) +\n",
    "  theme_minimal() +\n",
    "  scale_x_continuous(breaks = seq(1980, 2023, 5))"
   ]
  },
  {
   "cell_type": "code",
   "execution_count": 5,
   "id": "e277fc21-eabe-4c8e-8cb5-86cca13d7b4e",
   "metadata": {},
   "outputs": [
    {
     "data": {
      "image/png": "[encoded data removed]",
      "text/plain": [
       "plot without title"
      ]
     },
     "metadata": {
      "image/png": {
       "height": 420,
       "width": 420
      }
     },
     "output_type": "display_data"
    }
   ],
   "source": [
    "neo_plot + under5_plot"
   ]
  },
  {
   "cell_type": "code",
   "execution_count": 41,
   "id": "4133cb8a-4c75-4cc3-b32a-bcd591bb05b3",
   "metadata": {},
   "outputs": [
    {
     "name": "stderr",
     "output_type": "stream",
     "text": [
      "\u001b[1mRows: \u001b[22m\u001b[34m34\u001b[39m \u001b[1mColumns: \u001b[22m\u001b[34m44\u001b[39m\n",
      "\u001b[36m──\u001b[39m \u001b[1mColumn specification\u001b[22m \u001b[36m────────────────────────────────────────────────────────────────────────────────────────────────\u001b[39m\n",
      "\u001b[1mDelimiter:\u001b[22m \",\"\n",
      "\u001b[31mchr\u001b[39m (15): REF_AREA, Geographic area, INDICATOR, Indicator, SEX, Sex, WEALTH_...\n",
      "\u001b[32mdbl\u001b[39m  (7): SERIES_YEAR, Series Year, OBS_VALUE, REF_DATE, INTERVAL, LOWER_BOU...\n",
      "\u001b[33mlgl\u001b[39m (22): REGIONAL_GROUP, Regional group, COUNTRY_NOTES, CONNECTION, DEATH_C...\n",
      "\n",
      "\u001b[36mℹ\u001b[39m Use `spec()` to retrieve the full column specification for this data.\n",
      "\u001b[36mℹ\u001b[39m Specify the column types or set `show_col_types = FALSE` to quiet this message.\n",
      "\u001b[1mRows: \u001b[22m\u001b[34m44\u001b[39m \u001b[1mColumns: \u001b[22m\u001b[34m44\u001b[39m\n",
      "\u001b[36m──\u001b[39m \u001b[1mColumn specification\u001b[22m \u001b[36m────────────────────────────────────────────────────────────────────────────────────────────────\u001b[39m\n",
      "\u001b[1mDelimiter:\u001b[22m \",\"\n",
      "\u001b[31mchr\u001b[39m (15): REF_AREA, Geographic area, INDICATOR, Indicator, SEX, Sex, WEALTH_...\n",
      "\u001b[32mdbl\u001b[39m  (7): SERIES_YEAR, Series Year, OBS_VALUE, REF_DATE, INTERVAL, LOWER_BOU...\n",
      "\u001b[33mlgl\u001b[39m (22): REGIONAL_GROUP, Regional group, COUNTRY_NOTES, CONNECTION, DEATH_C...\n",
      "\n",
      "\u001b[36mℹ\u001b[39m Use `spec()` to retrieve the full column specification for this data.\n",
      "\u001b[36mℹ\u001b[39m Specify the column types or set `show_col_types = FALSE` to quiet this message.\n",
      "\u001b[1m\u001b[22m`geom_smooth()` using formula = 'y ~ x'\n",
      "\u001b[1m\u001b[22m`geom_smooth()` using formula = 'y ~ x'\n"
     ]
    },
    {
     "data": {
      "image/png": "[encoded data removed]",
      "text/plain": [
       "plot without title"
      ]
     },
     "metadata": {
      "image/png": {
       "height": 420,
       "width": 420
      }
     },
     "output_type": "display_data"
    },
    {
     "data": {
      "image/png": "[encoded data removed]",
      "text/plain": [
       "plot without title"
      ]
     },
     "metadata": {
      "image/png": {
       "height": 420,
       "width": 420
      }
     },
     "output_type": "display_data"
    }
   ],
   "source": [
    "# Read the data\n",
    "neonatal_data <- read_csv(\"C:/Users/Administrator/Downloads/internship_task_dscience-main/internship_task_dscience-main/neonatal_mortality_rate.csv\")\n",
    "under_five_data <- read_csv(\"C:/Users/Administrator/Downloads/internship_task_dscience-main/internship_task_dscience-main/under_five mortality rate.csv\")\n",
    "\n",
    "neonatal_data <- neonatal_data %>%\n",
    "  mutate(Year = as.numeric(substr(TIME_PERIOD, 1, 4)))\n",
    "\n",
    "under_five_data <- under_five_data %>%\n",
    "  mutate(Year = as.numeric(substr(TIME_PERIOD, 1, 4)))\n",
    "\n",
    "plot_neonatal <- ggplot(neonatal_data, aes(x = Year, y = OBS_VALUE)) +\n",
    "  geom_point(color = \"blue\", alpha = 0.6) +\n",
    "  geom_smooth(method = \"loess\", se = FALSE, color = \"red\", linewidth = 1) +\n",
    "  labs(title = \"Neonatal Mortality Rate in Sub-Saharan Africa (1990–2023)\",\n",
    "       x = \"Year\",\n",
    "       y = \"Deaths per 1,000 live births\") +\n",
    "  theme_minimal() +\n",
    "  theme(plot.title = element_text(hjust = 0.5))\n",
    "\n",
    "plot_under_five <- ggplot(under_five_data, aes(x = Year, y = OBS_VALUE)) +\n",
    "  geom_point(color = \"green\", alpha = 0.6) +\n",
    "  geom_smooth(method = \"loess\", se = FALSE, color = \"orange\", linewidth = 1) +\n",
    "  labs(title = \"Under-Five Mortality Rate in Sub-Saharan Africa (1980–2023)\",\n",
    "       x = \"Year\",\n",
    "       y = \"Deaths per 1,000 live births\") +\n",
    "  theme_minimal() +\n",
    "  theme(plot.title = element_text(hjust = 0.5))\n",
    "\n",
    "# Display the plots\n",
    "print(plot_neonatal)\n",
    "print(plot_under_five)\n"
   ]
  },
  {
   "cell_type": "code",
   "execution_count": 67,
   "id": "54bb15f9-9c75-4fb7-afe1-3f2a22fdf340",
   "metadata": {},
   "outputs": [
    {
     "name": "stdout",
     "output_type": "stream",
     "text": [
      "Countries with Highest Under-Five Mortality Rates:\n",
      "  Geographic_area OBS_VALUE            Indicator\n",
      "1         Somalia       115 Under-Five Mortality\n",
      "2     South Sudan        95 Under-Five Mortality\n",
      "3         Burundi        70 Under-Five Mortality\n",
      "\n",
      "Countries with Highest Neonatal Mortality Rates:\n",
      "  Geographic_area OBS_VALUE          Indicator\n",
      "1         Somalia        45 Neonatal Mortality\n",
      "2     South Sudan        40 Neonatal Mortality\n",
      "3         Burundi        35 Neonatal Mortality\n"
     ]
    }
   ],
   "source": [
    "# Simulate East Africa mortality data (replace with your actual data)\n",
    "east_africa <- c(\"Kenya\", \"Tanzania\", \"Uganda\", \"Rwanda\", \"Burundi\", \n",
    "                 \"South Sudan\", \"Somalia\", \"Djibouti\", \"Eritrea\", \"Ethiopia\")\n",
    "\n",
    "# Under-Five Mortality data\n",
    "under_five_data <- data.frame(\n",
    "  Geographic_area = east_africa,\n",
    "  OBS_VALUE = c(45, 52, 55, 35, 70, 95, 115, 50, 42, 48),\n",
    "  Indicator = \"Under-Five Mortality\"\n",
    ")\n",
    "\n",
    "# Neonatal Mortality data\n",
    "neonatal_data <- data.frame(\n",
    "  Geographic_area = east_africa,\n",
    "  OBS_VALUE = c(22, 25, 28, 18, 35, 40, 45, 24, 20, 23),\n",
    "  Indicator = \"Neonatal Mortality\"\n",
    ")\n",
    "\n",
    "under_five_highest <- under_five_data %>% arrange(desc(OBS_VALUE)) %>% head(3)\n",
    "neonatal_highest <- neonatal_data %>% arrange(desc(OBS_VALUE)) %>% head(3)\n",
    "\n",
    "cat(\"Countries with Highest Under-Five Mortality Rates:\\n\")\n",
    "print(under_five_highest)\n",
    "cat(\"\\nCountries with Highest Neonatal Mortality Rates:\\n\")\n",
    "print(neonatal_highest)\n",
    "\n",
    "# Create visualizations\n",
    "under_five_plot <- ggplot(under_five_data, aes(x = reorder(Geographic_area, -OBS_VALUE), y = OBS_VALUE)) +\n",
    "  geom_bar(stat = \"identity\", fill = \"tomato\") +\n",
    "  labs(title = \"Under-Five Mortality Rates in East Africa\",\n",
    "       x = \"Country\", y = \"Deaths per 1,000 live births\") +\n",
    "  theme_minimal() +\n",
    "  theme(axis.text.x = element_text(angle = 45, hjust = 1))\n",
    "\n",
    "neonatal_plot <- ggplot(neonatal_data, aes(x = reorder(Geographic_area, -OBS_VALUE), y = OBS_VALUE)) +\n",
    "  geom_bar(stat = \"identity\", fill = \"steelblue\") +\n",
    "  labs(title = \"Neonatal Mortality Rates in East Africa\",\n",
    "       x = \"Country\", y = \"Deaths per 1,000 live births\") +\n",
    "  theme_minimal() +\n",
    "  theme(axis.text.x = element_text(angle = 45, hjust = 1))"
   ]
  },
  {
   "cell_type": "code",
   "execution_count": null,
   "id": "ef2b8213-1222-4aa9-84df-f8795e9786e2",
   "metadata": {},
   "outputs": [],
   "source": []
  }
 ],
 "metadata": {
  "kernelspec": {
   "display_name": "R",
   "language": "R",
   "name": "ir"
  },
  "language_info": {
   "codemirror_mode": "r",
   "file_extension": ".r",
   "mimetype": "text/x-r-source",
   "name": "R",
   "pygments_lexer": "r",
   "version": "4.5.0"
  }
 },
 "nbformat": 4,
 "nbformat_minor": 5
}
