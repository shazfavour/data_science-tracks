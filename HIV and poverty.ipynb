{
 "cells": [
  {
   "cell_type": "code",
   "execution_count": 8,
   "id": "efe98fbc-b48b-488f-8833-265b158b678e",
   "metadata": {},
   "outputs": [],
   "source": [
    "# Load necessary libraries\n",
    "if (!require(\"tidyverse\")) install.packages(\"tidyverse\")\n",
    "if (!require(\"lme4\")) install.packages(\"lme4\")\n",
    "if (!require(\"janitor\")) install.packages(\"janitor\")\n",
    "if (!require(\"readxl\")) install.packages(\"readxl\")\n",
    " \n",
    "library(tidyverse)\n",
    "library(readxl)\n",
    "library(lme4)\n",
    "library(lmerTest)\n",
    "library(dplyr)\n",
    "library(stringr)\n",
    "library(readr)\n",
    "library(ggplot2)\n",
    "library(janitor)\n",
    "library(conflicted)"
   ]
  },
  {
   "cell_type": "code",
   "execution_count": 27,
   "id": "0052d9a6-556d-4b13-828f-544565a99049",
   "metadata": {},
   "outputs": [
    {
     "name": "stderr",
     "output_type": "stream",
     "text": [
      "\u001b[1mRows: \u001b[22m\u001b[34m1552\u001b[39m \u001b[1mColumns: \u001b[22m\u001b[34m11\u001b[39m\n",
      "\u001b[36m──\u001b[39m \u001b[1mColumn specification\u001b[22m \u001b[36m────────────────────────────────────────────────────────────────────────────────────────────────────────────────────────────\u001b[39m\n",
      "\u001b[1mDelimiter:\u001b[22m \",\"\n",
      "\u001b[31mchr\u001b[39m (10): IndicatorCode, Indicator, ValueType, ParentLocationCode, ParentLoc...\n",
      "\u001b[32mdbl\u001b[39m  (1): Period\n",
      "\n",
      "\u001b[36mℹ\u001b[39m Use `spec()` to retrieve the full column specification for this data.\n",
      "\u001b[36mℹ\u001b[39m Specify the column types or set `show_col_types = FALSE` to quiet this message.\n"
     ]
    },
    {
     "name": "stdout",
     "output_type": "stream",
     "text": [
      "Rows: 1,552\n",
      "Columns: 11\n",
      "$ IndicatorCode       \u001b[3m\u001b[90m<chr>\u001b[39m\u001b[23m \"HIV_0000000001\"\u001b[90m, \u001b[39m\"HIV_0000000001\"\u001b[90m, \u001b[39m\"HIV_000000000…\n",
      "$ Indicator           \u001b[3m\u001b[90m<chr>\u001b[39m\u001b[23m \"Estimated number of people (all ages) living with…\n",
      "$ ValueType           \u001b[3m\u001b[90m<chr>\u001b[39m\u001b[23m \"numeric\"\u001b[90m, \u001b[39m\"numeric\"\u001b[90m, \u001b[39m\"numeric\"\u001b[90m, \u001b[39m\"numeric\"\u001b[90m, \u001b[39m\"numer…\n",
      "$ ParentLocationCode  \u001b[3m\u001b[90m<chr>\u001b[39m\u001b[23m \"AFR\"\u001b[90m, \u001b[39m\"AFR\"\u001b[90m, \u001b[39m\"AFR\"\u001b[90m, \u001b[39m\"AFR\"\u001b[90m, \u001b[39m\"AFR\"\u001b[90m, \u001b[39m\"AFR\"\u001b[90m, \u001b[39m\"AFR\"\u001b[90m, \u001b[39m\"…\n",
      "$ ParentLocation      \u001b[3m\u001b[90m<chr>\u001b[39m\u001b[23m \"Africa\"\u001b[90m, \u001b[39m\"Africa\"\u001b[90m, \u001b[39m\"Africa\"\u001b[90m, \u001b[39m\"Africa\"\u001b[90m, \u001b[39m\"Africa\"\u001b[90m, \u001b[39m…\n",
      "$ `Location type`     \u001b[3m\u001b[90m<chr>\u001b[39m\u001b[23m \"Country\"\u001b[90m, \u001b[39m\"Country\"\u001b[90m, \u001b[39m\"Country\"\u001b[90m, \u001b[39m\"Country\"\u001b[90m, \u001b[39m\"Count…\n",
      "$ SpatialDimValueCode \u001b[3m\u001b[90m<chr>\u001b[39m\u001b[23m \"AGO\"\u001b[90m, \u001b[39m\"AGO\"\u001b[90m, \u001b[39m\"AGO\"\u001b[90m, \u001b[39m\"AGO\"\u001b[90m, \u001b[39m\"AGO\"\u001b[90m, \u001b[39m\"AGO\"\u001b[90m, \u001b[39m\"AGO\"\u001b[90m, \u001b[39m\"…\n",
      "$ Location            \u001b[3m\u001b[90m<chr>\u001b[39m\u001b[23m \"Angola\"\u001b[90m, \u001b[39m\"Angola\"\u001b[90m, \u001b[39m\"Angola\"\u001b[90m, \u001b[39m\"Angola\"\u001b[90m, \u001b[39m\"Angola\"\u001b[90m, \u001b[39m…\n",
      "$ `Period type`       \u001b[3m\u001b[90m<chr>\u001b[39m\u001b[23m \"Year\"\u001b[90m, \u001b[39m\"Year\"\u001b[90m, \u001b[39m\"Year\"\u001b[90m, \u001b[39m\"Year\"\u001b[90m, \u001b[39m\"Year\"\u001b[90m, \u001b[39m\"Year\"\u001b[90m, \u001b[39m\"Y…\n",
      "$ Period              \u001b[3m\u001b[90m<dbl>\u001b[39m\u001b[23m 2023\u001b[90m, \u001b[39m2022\u001b[90m, \u001b[39m2021\u001b[90m, \u001b[39m2020\u001b[90m, \u001b[39m2015\u001b[90m, \u001b[39m2010\u001b[90m, \u001b[39m2005\u001b[90m, \u001b[39m2000\u001b[90m, \u001b[39m20…\n",
      "$ Value               \u001b[3m\u001b[90m<chr>\u001b[39m\u001b[23m \"320 000 [280 000 - 380 000]\"\u001b[90m, \u001b[39m\"320 000 [280 000 -…\n"
     ]
    }
   ],
   "source": [
    "# Load datasets\n",
    "hiv_data_raw <- read_csv(\"C:/Users/Administrator/Downloads/internship_task_dscience-main/internship_task_dscience-main/HIV data 2000-2023.csv\")\n",
    "glimpse(hiv_data_raw)"
   ]
  },
  {
   "cell_type": "code",
   "execution_count": 33,
   "id": "a0bf207b-ff2e-4c0b-8d45-10fbc9141abd",
   "metadata": {},
   "outputs": [
    {
     "name": "stdout",
     "output_type": "stream",
     "text": [
      "Rows: 1,552\n",
      "Columns: 5\n",
      "$ Country            \u001b[3m\u001b[90m<chr>\u001b[39m\u001b[23m \"Angola\"\u001b[90m, \u001b[39m\"Angola\"\u001b[90m, \u001b[39m\"Angola\"\u001b[90m, \u001b[39m\"Angola\"\u001b[90m, \u001b[39m\"Angola\"\u001b[90m, \u001b[39m\"…\n",
      "$ Year               \u001b[3m\u001b[90m<dbl>\u001b[39m\u001b[23m 2023\u001b[90m, \u001b[39m2022\u001b[90m, \u001b[39m2021\u001b[90m, \u001b[39m2020\u001b[90m, \u001b[39m2015\u001b[90m, \u001b[39m2010\u001b[90m, \u001b[39m2005\u001b[90m, \u001b[39m2000\u001b[90m, \u001b[39m202…\n",
      "$ Value              \u001b[3m\u001b[90m<dbl>\u001b[39m\u001b[23m 320000\u001b[90m, \u001b[39m320000\u001b[90m, \u001b[39m320000\u001b[90m, \u001b[39m320000\u001b[90m, \u001b[39m300000\u001b[90m, \u001b[39m250000\u001b[90m, \u001b[39m190…\n",
      "$ ParentLocationCode \u001b[3m\u001b[90m<chr>\u001b[39m\u001b[23m \"AFR\"\u001b[90m, \u001b[39m\"AFR\"\u001b[90m, \u001b[39m\"AFR\"\u001b[90m, \u001b[39m\"AFR\"\u001b[90m, \u001b[39m\"AFR\"\u001b[90m, \u001b[39m\"AFR\"\u001b[90m, \u001b[39m\"AFR\"\u001b[90m, \u001b[39m\"A…\n",
      "$ ParentLocation     \u001b[3m\u001b[90m<chr>\u001b[39m\u001b[23m \"Africa\"\u001b[90m, \u001b[39m\"Africa\"\u001b[90m, \u001b[39m\"Africa\"\u001b[90m, \u001b[39m\"Africa\"\u001b[90m, \u001b[39m\"Africa\"\u001b[90m, \u001b[39m\"…\n"
     ]
    }
   ],
   "source": [
    "hiv_data <- hiv_data_raw %>%\n",
    "  mutate(\n",
    "    Value_clean = str_extract(Value, \"^[0-9 ]+\"),    \n",
    "    Value_clean = as.numeric(gsub(\" \", \"\", Value_clean))  \n",
    "  ) %>%\n",
    "  select(\n",
    "    Country = Location, \n",
    "    Year = Period, \n",
    "    Value = Value_clean,\n",
    "    ParentLocationCode,   \n",
    "    ParentLocation        \n",
    "  )\n",
    "# Check cleaned HIV data\n",
    "glimpse(hiv_data)\n"
   ]
  },
  {
   "cell_type": "code",
   "execution_count": 34,
   "id": "8168a1de-a7b6-44bc-9509-9ca66476dca0",
   "metadata": {},
   "outputs": [],
   "source": [
    "# Sum HIV cases globally by year\n",
    "global_hiv <- hiv_data %>%\n",
    "  group_by(Year) %>%\n",
    "  summarise(global_total = sum(Value, na.rm = TRUE))\n"
   ]
  },
  {
   "cell_type": "code",
   "execution_count": 35,
   "id": "a7d9a477-3e2c-47ff-b470-1d8542c5193f",
   "metadata": {},
   "outputs": [],
   "source": [
    "# Calculate cumulative contribution for each country\n",
    "hiv_cumulative <- hiv_data %>%\n",
    "  group_by(Country) %>%\n",
    "  summarise(total_cases = sum(Value, na.rm = TRUE)) %>%\n",
    "  arrange(desc(total_cases)) %>%\n",
    "  mutate(cum_percent = cumsum(total_cases) / sum(total_cases) * 100)\n",
    "\n",
    "top_countries <- hiv_cumulative %>%\n",
    "  filter(cum_percent <= 75 | row_number() == 1) %>%   \n",
    "  pull(Country)\n",
    "\n",
    "# Filter HIV dataset for top countries\n",
    "hiv_top_countries <- hiv_data %>%\n",
    "  filter(Country %in% top_countries)\n",
    "\n",
    "hiv_top_countries$Year <- as.numeric(hiv_top_countries$Year)\n"
   ]
  },
  {
   "cell_type": "code",
   "execution_count": 37,
   "id": "d3c417f7-3c0b-440f-bf94-ce71109c5b6f",
   "metadata": {},
   "outputs": [
    {
     "data": {
      "image/png": "[encoded data removed]",
      "text/plain": [
       "plot without title"
      ]
     },
     "metadata": {
      "image/png": {
       "height": 420,
       "width": 420
      }
     },
     "output_type": "display_data"
    }
   ],
   "source": [
    "# Plot trend\n",
    "ggplot(hiv_top_countries, aes(x = Year, y = Value, color = Country)) +\n",
    "  geom_line(linewidth = 1) +\n",
    "  labs(title = \"Trend of HIV Cases in Top Countries (Contributing to 75% Global Burden)\",\n",
    "       y = \"People Living with HIV\",\n",
    "       x = \"Year\",\n",
    "       color = \"Country\") +\n",
    "  theme_minimal()\n"
   ]
  },
  {
   "cell_type": "code",
   "execution_count": 39,
   "id": "59ec9ff8-fcb7-4ef3-8c31-de50581a4745",
   "metadata": {},
   "outputs": [],
   "source": [
    "hiv_region_top <- hiv_data %>%\n",
    "  group_by(ParentLocationCode, Country) %>%\n",
    "  summarise(total_cases = sum(Value, na.rm = TRUE), .groups = \"drop_last\") %>%\n",
    "  arrange(ParentLocationCode, desc(total_cases)) %>%\n",
    "  mutate(region_total = sum(total_cases),\n",
    "         cum_percent = cumsum(total_cases) / region_total * 100) %>%\n",
    "  filter(cum_percent <= 75)\n"
   ]
  },
  {
   "cell_type": "code",
   "execution_count": 40,
   "id": "74168eb3-2484-4718-978b-ba0ae9bed427",
   "metadata": {},
   "outputs": [],
   "source": [
    "# Filter HIV dataset for these countries\n",
    "hiv_region_countries <- hiv_data %>%\n",
    "  semi_join(hiv_region_top, by = c(\"ParentLocationCode\", \"Country\"))\n"
   ]
  },
  {
   "cell_type": "code",
   "execution_count": 42,
   "id": "9a5ab140-ae1b-4206-a69d-2f926e7b7d9a",
   "metadata": {},
   "outputs": [
    {
     "data": {
      "image/png": "[encoded data removed]",
      "text/plain": [
       "plot without title"
      ]
     },
     "metadata": {
      "image/png": {
       "height": 420,
       "width": 420
      }
     },
     "output_type": "display_data"
    }
   ],
   "source": [
    "hiv_region_countries_clean <- hiv_region_countries %>%\n",
    "  filter(!is.na(Value))\n",
    "\n",
    "ggplot(hiv_region_countries_clean, aes(x = Year, y = Value, color = Country)) +\n",
    "  geom_line() +\n",
    "  facet_wrap(~ ParentLocationCode, scales = \"free_y\") +\n",
    "  labs(title = \"Trend of HIV Cases in Top 75% Countries per WHO Region\",\n",
    "       y = \"People Living with HIV\",\n",
    "       x = \"Year\") +\n",
    "  theme_minimal()\n"
   ]
  },
  {
   "cell_type": "code",
   "execution_count": 66,
   "id": "f5ca1b0b-4597-4f00-a259-8c767b0d3881",
   "metadata": {},
   "outputs": [
    {
     "name": "stderr",
     "output_type": "stream",
     "text": [
      "\u001b[1m\u001b[22mNew names:\n",
      "\u001b[36m•\u001b[39m `` -> `...2`\n",
      "\u001b[36m•\u001b[39m `` -> `...3`\n",
      "\u001b[36m•\u001b[39m `` -> `...4`\n",
      "\u001b[36m•\u001b[39m `` -> `...5`\n",
      "\u001b[36m•\u001b[39m `` -> `...6`\n",
      "\u001b[36m•\u001b[39m `` -> `...7`\n",
      "\u001b[36m•\u001b[39m `` -> `...8`\n",
      "\u001b[36m•\u001b[39m `` -> `...9`\n",
      "\u001b[36m•\u001b[39m `` -> `...10`\n",
      "\u001b[36m•\u001b[39m `` -> `...11`\n",
      "\u001b[36m•\u001b[39m `` -> `...12`\n",
      "\u001b[36m•\u001b[39m `` -> `...13`\n",
      "\u001b[36m•\u001b[39m `` -> `...14`\n",
      "\u001b[36m•\u001b[39m `` -> `...15`\n",
      "\u001b[36m•\u001b[39m `` -> `...16`\n"
     ]
    },
    {
     "name": "stdout",
     "output_type": "stream",
     "text": [
      "Rows: 112\n",
      "Columns: 16\n",
      "$ `Individuals in households deprived in each indicator, 110 economies, circa year 2021 (2018-2023)\\r\\nDate: October 2024` \u001b[3m\u001b[90m<chr>\u001b[39m\u001b[23m …\n",
      "$ ...2                                                                                                                     \u001b[3m\u001b[90m<chr>\u001b[39m\u001b[23m …\n",
      "$ ...3                                                                                                                     \u001b[3m\u001b[90m<chr>\u001b[39m\u001b[23m …\n",
      "$ ...4                                                                                                                     \u001b[3m\u001b[90m<chr>\u001b[39m\u001b[23m …\n",
      "$ ...5                                                                                                                     \u001b[3m\u001b[90m<chr>\u001b[39m\u001b[23m …\n",
      "$ ...6                                                                                                                     \u001b[3m\u001b[90m<chr>\u001b[39m\u001b[23m …\n",
      "$ ...7                                                                                                                     \u001b[3m\u001b[90m<chr>\u001b[39m\u001b[23m …\n",
      "$ ...8                                                                                                                     \u001b[3m\u001b[90m<chr>\u001b[39m\u001b[23m …\n",
      "$ ...9                                                                                                                     \u001b[3m\u001b[90m<chr>\u001b[39m\u001b[23m …\n",
      "$ ...10                                                                                                                    \u001b[3m\u001b[90m<chr>\u001b[39m\u001b[23m …\n",
      "$ ...11                                                                                                                    \u001b[3m\u001b[90m<chr>\u001b[39m\u001b[23m …\n",
      "$ ...12                                                                                                                    \u001b[3m\u001b[90m<chr>\u001b[39m\u001b[23m …\n",
      "$ ...13                                                                                                                    \u001b[3m\u001b[90m<chr>\u001b[39m\u001b[23m …\n",
      "$ ...14                                                                                                                    \u001b[3m\u001b[90m<chr>\u001b[39m\u001b[23m …\n",
      "$ ...15                                                                                                                    \u001b[3m\u001b[90m<chr>\u001b[39m\u001b[23m …\n",
      "$ ...16                                                                                                                    \u001b[3m\u001b[90m<chr>\u001b[39m\u001b[23m …\n"
     ]
    },
    {
     "data": {
      "text/html": [
       "<table class=\"dataframe\">\n",
       "<caption>A tibble: 6 × 16</caption>\n",
       "<thead>\n",
       "\t<tr><th scope=col>Individuals in households deprived in each indicator, 110 economies, circa year 2021 (2018-2023)\r\n",
       "Date: October 2024</th><th scope=col>...2</th><th scope=col>...3</th><th scope=col>...4</th><th scope=col>...5</th><th scope=col>...6</th><th scope=col>...7</th><th scope=col>...8</th><th scope=col>...9</th><th scope=col>...10</th><th scope=col>...11</th><th scope=col>...12</th><th scope=col>...13</th><th scope=col>...14</th><th scope=col>...15</th><th scope=col>...16</th></tr>\n",
       "\t<tr><th scope=col>&lt;chr&gt;</th><th scope=col>&lt;chr&gt;</th><th scope=col>&lt;chr&gt;</th><th scope=col>&lt;chr&gt;</th><th scope=col>&lt;chr&gt;</th><th scope=col>&lt;chr&gt;</th><th scope=col>&lt;chr&gt;</th><th scope=col>&lt;chr&gt;</th><th scope=col>&lt;chr&gt;</th><th scope=col>&lt;chr&gt;</th><th scope=col>&lt;chr&gt;</th><th scope=col>&lt;chr&gt;</th><th scope=col>&lt;chr&gt;</th><th scope=col>&lt;chr&gt;</th><th scope=col>&lt;chr&gt;</th><th scope=col>&lt;chr&gt;</th></tr>\n",
       "</thead>\n",
       "<tbody>\n",
       "\t<tr><td>Region</td><td>Country code</td><td>Economy  </td><td>Reporting year</td><td>Survey name</td><td>Survey year</td><td>Survey coverage</td><td>Welfare type</td><td>Survey comparability</td><td>Deprivation rate (share of population)</td><td>NA                        </td><td>NA                        </td><td>NA                   </td><td>NA                 </td><td>NA                 </td><td>Multidimensional poverty headcount ratio (%)</td></tr>\n",
       "\t<tr><td>NA    </td><td>NA          </td><td>NA       </td><td>NA            </td><td>NA         </td><td>NA         </td><td>NA             </td><td>NA          </td><td>NA                  </td><td>Monetary (%)                          </td><td>Educational attainment (%)</td><td>Educational enrollment (%)</td><td>Electricity (%)      </td><td>Sanitation (%)     </td><td>Drinking water (%) </td><td>NA                                          </td></tr>\n",
       "\t<tr><td>SSA   </td><td>AGO         </td><td>Angola   </td><td>2018          </td><td>IDREA      </td><td>2018       </td><td>N              </td><td>c           </td><td>2                   </td><td>31.122004985809298                    </td><td>29.7534227371215          </td><td>27.443060278892499        </td><td>52.639532089233398   </td><td>53.637516498565596 </td><td>32.106507280141003 </td><td>47.203606367111199                          </td></tr>\n",
       "\t<tr><td>ECA   </td><td>ALB         </td><td>Albania  </td><td>2012          </td><td>HBS        </td><td>2018       </td><td>N              </td><td>c           </td><td>1                   </td><td>4.8107048496603903E-2                 </td><td>0.192380091175436         </td><td>-                         </td><td>6.0250010574236498E-2</td><td>6.5797723829746202 </td><td>9.5949657452627903 </td><td>0.29316141735762302                         </td></tr>\n",
       "\t<tr><td>LAC   </td><td>ARG         </td><td>Argentina</td><td>2010          </td><td>EPHC-S2    </td><td>2021       </td><td>U              </td><td>i           </td><td>3                   </td><td>0.89421793818473794                   </td><td>1.0853196494281201        </td><td>0.73135080747306302       </td><td>0                    </td><td>0.25745299644768199</td><td>0.36404800517942798</td><td>0.906572956591844                           </td></tr>\n",
       "\t<tr><td>ECA   </td><td>ARM         </td><td>Armenia  </td><td>2010          </td><td>ILCS       </td><td>2021       </td><td>N              </td><td>c           </td><td>1                   </td><td>0.52352081984281496                   </td><td>0                         </td><td>1.7930038273334499        </td><td>0                    </td><td>0.39772549644112498</td><td>0.66008218894200898</td><td>0.52352081984281496                         </td></tr>\n",
       "</tbody>\n",
       "</table>\n"
      ],
      "text/latex": [
       "A tibble: 6 × 16\n",
       "\\begin{tabular}{llllllllllllllll}\n",
       " Individuals in households deprived in each indicator, 110 economies, circa year 2021 (2018-2023)\r\n",
       "Date: October 2024 & ...2 & ...3 & ...4 & ...5 & ...6 & ...7 & ...8 & ...9 & ...10 & ...11 & ...12 & ...13 & ...14 & ...15 & ...16\\\\\n",
       " <chr> & <chr> & <chr> & <chr> & <chr> & <chr> & <chr> & <chr> & <chr> & <chr> & <chr> & <chr> & <chr> & <chr> & <chr> & <chr>\\\\\n",
       "\\hline\n",
       "\t Region & Country code & Economy   & Reporting year & Survey name & Survey year & Survey coverage & Welfare type & Survey comparability & Deprivation rate (share of population) & NA                         & NA                         & NA                    & NA                  & NA                  & Multidimensional poverty headcount ratio (\\%)\\\\\n",
       "\t NA     & NA           & NA        & NA             & NA          & NA          & NA              & NA           & NA                   & Monetary (\\%)                           & Educational attainment (\\%) & Educational enrollment (\\%) & Electricity (\\%)       & Sanitation (\\%)      & Drinking water (\\%)  & NA                                          \\\\\n",
       "\t SSA    & AGO          & Angola    & 2018           & IDREA       & 2018        & N               & c            & 2                    & 31.122004985809298                     & 29.7534227371215           & 27.443060278892499         & 52.639532089233398    & 53.637516498565596  & 32.106507280141003  & 47.203606367111199                          \\\\\n",
       "\t ECA    & ALB          & Albania   & 2012           & HBS         & 2018        & N               & c            & 1                    & 4.8107048496603903E-2                  & 0.192380091175436          & -                          & 6.0250010574236498E-2 & 6.5797723829746202  & 9.5949657452627903  & 0.29316141735762302                         \\\\\n",
       "\t LAC    & ARG          & Argentina & 2010           & EPHC-S2     & 2021        & U               & i            & 3                    & 0.89421793818473794                    & 1.0853196494281201         & 0.73135080747306302        & 0                     & 0.25745299644768199 & 0.36404800517942798 & 0.906572956591844                           \\\\\n",
       "\t ECA    & ARM          & Armenia   & 2010           & ILCS        & 2021        & N               & c            & 1                    & 0.52352081984281496                    & 0                          & 1.7930038273334499         & 0                     & 0.39772549644112498 & 0.66008218894200898 & 0.52352081984281496                         \\\\\n",
       "\\end{tabular}\n"
      ],
      "text/markdown": [
       "\n",
       "A tibble: 6 × 16\n",
       "\n",
       "| Individuals in households deprived in each indicator, 110 economies, circa year 2021 (2018-2023)\r\n",
       "Date: October 2024 &lt;chr&gt; | ...2 &lt;chr&gt; | ...3 &lt;chr&gt; | ...4 &lt;chr&gt; | ...5 &lt;chr&gt; | ...6 &lt;chr&gt; | ...7 &lt;chr&gt; | ...8 &lt;chr&gt; | ...9 &lt;chr&gt; | ...10 &lt;chr&gt; | ...11 &lt;chr&gt; | ...12 &lt;chr&gt; | ...13 &lt;chr&gt; | ...14 &lt;chr&gt; | ...15 &lt;chr&gt; | ...16 &lt;chr&gt; |\n",
       "|---|---|---|---|---|---|---|---|---|---|---|---|---|---|---|---|\n",
       "| Region | Country code | Economy   | Reporting year | Survey name | Survey year | Survey coverage | Welfare type | Survey comparability | Deprivation rate (share of population) | NA                         | NA                         | NA                    | NA                  | NA                  | Multidimensional poverty headcount ratio (%) |\n",
       "| NA     | NA           | NA        | NA             | NA          | NA          | NA              | NA           | NA                   | Monetary (%)                           | Educational attainment (%) | Educational enrollment (%) | Electricity (%)       | Sanitation (%)      | Drinking water (%)  | NA                                           |\n",
       "| SSA    | AGO          | Angola    | 2018           | IDREA       | 2018        | N               | c            | 2                    | 31.122004985809298                     | 29.7534227371215           | 27.443060278892499         | 52.639532089233398    | 53.637516498565596  | 32.106507280141003  | 47.203606367111199                           |\n",
       "| ECA    | ALB          | Albania   | 2012           | HBS         | 2018        | N               | c            | 1                    | 4.8107048496603903E-2                  | 0.192380091175436          | -                          | 6.0250010574236498E-2 | 6.5797723829746202  | 9.5949657452627903  | 0.29316141735762302                          |\n",
       "| LAC    | ARG          | Argentina | 2010           | EPHC-S2     | 2021        | U               | i            | 3                    | 0.89421793818473794                    | 1.0853196494281201         | 0.73135080747306302        | 0                     | 0.25745299644768199 | 0.36404800517942798 | 0.906572956591844                            |\n",
       "| ECA    | ARM          | Armenia   | 2010           | ILCS        | 2021        | N               | c            | 1                    | 0.52352081984281496                    | 0                          | 1.7930038273334499         | 0                     | 0.39772549644112498 | 0.66008218894200898 | 0.52352081984281496                          |\n",
       "\n"
      ],
      "text/plain": [
       "  Individuals in households deprived in each indicator, 110 economies, circa year 2021 (2018-2023)\\r\\nDate: October 2024\n",
       "1 Region                                                                                                                \n",
       "2 NA                                                                                                                    \n",
       "3 SSA                                                                                                                   \n",
       "4 ECA                                                                                                                   \n",
       "5 LAC                                                                                                                   \n",
       "6 ECA                                                                                                                   \n",
       "  ...2         ...3      ...4           ...5        ...6        ...7           \n",
       "1 Country code Economy   Reporting year Survey name Survey year Survey coverage\n",
       "2 NA           NA        NA             NA          NA          NA             \n",
       "3 AGO          Angola    2018           IDREA       2018        N              \n",
       "4 ALB          Albania   2012           HBS         2018        N              \n",
       "5 ARG          Argentina 2010           EPHC-S2     2021        U              \n",
       "6 ARM          Armenia   2010           ILCS        2021        N              \n",
       "  ...8         ...9                 ...10                                 \n",
       "1 Welfare type Survey comparability Deprivation rate (share of population)\n",
       "2 NA           NA                   Monetary (%)                          \n",
       "3 c            2                    31.122004985809298                    \n",
       "4 c            1                    4.8107048496603903E-2                 \n",
       "5 i            3                    0.89421793818473794                   \n",
       "6 c            1                    0.52352081984281496                   \n",
       "  ...11                      ...12                      ...13                \n",
       "1 NA                         NA                         NA                   \n",
       "2 Educational attainment (%) Educational enrollment (%) Electricity (%)      \n",
       "3 29.7534227371215           27.443060278892499         52.639532089233398   \n",
       "4 0.192380091175436          -                          6.0250010574236498E-2\n",
       "5 1.0853196494281201         0.73135080747306302        0                    \n",
       "6 0                          1.7930038273334499         0                    \n",
       "  ...14               ...15              \n",
       "1 NA                  NA                 \n",
       "2 Sanitation (%)      Drinking water (%) \n",
       "3 53.637516498565596  32.106507280141003 \n",
       "4 6.5797723829746202  9.5949657452627903 \n",
       "5 0.25745299644768199 0.36404800517942798\n",
       "6 0.39772549644112498 0.66008218894200898\n",
       "  ...16                                       \n",
       "1 Multidimensional poverty headcount ratio (%)\n",
       "2 NA                                          \n",
       "3 47.203606367111199                          \n",
       "4 0.29316141735762302                         \n",
       "5 0.906572956591844                           \n",
       "6 0.52352081984281496                         "
      ]
     },
     "metadata": {},
     "output_type": "display_data"
    }
   ],
   "source": [
    "# Load the poverty data \n",
    "poverty_raw <- read_excel(\"C:/Users/Administrator/Downloads/internship_task_dscience-main/internship_task_dscience-main/multidimensional_poverty.xlsx\")\n",
    "\n",
    "\n",
    "glimpse(poverty_raw)\n",
    "head(poverty_raw)"
   ]
  },
  {
   "cell_type": "code",
   "execution_count": 67,
   "id": "0ccc1e63-27a0-4769-890f-b8ed4cc1bcb0",
   "metadata": {
    "scrolled": true
   },
   "outputs": [
    {
     "data": {
      "text/html": [
       "<style>\n",
       ".list-inline {list-style: none; margin:0; padding: 0}\n",
       ".list-inline>li {display: inline-block}\n",
       ".list-inline>li:not(:last-child)::after {content: \"\\00b7\"; padding: 0 .5ex}\n",
       "</style>\n",
       "<ol class=list-inline><li>'Individuals in households deprived in each indicator, 110 economies, circa year 2021 (2018-2023)\\r\\nDate: October 2024'</li><li>'...2'</li><li>'...3'</li><li>'...4'</li><li>'...5'</li><li>'...6'</li><li>'...7'</li><li>'...8'</li><li>'...9'</li><li>'...10'</li><li>'...11'</li><li>'...12'</li><li>'...13'</li><li>'...14'</li><li>'...15'</li><li>'...16'</li></ol>\n"
      ],
      "text/latex": [
       "\\begin{enumerate*}\n",
       "\\item 'Individuals in households deprived in each indicator, 110 economies, circa year 2021 (2018-2023)\\textbackslash{}r\\textbackslash{}nDate: October 2024'\n",
       "\\item '...2'\n",
       "\\item '...3'\n",
       "\\item '...4'\n",
       "\\item '...5'\n",
       "\\item '...6'\n",
       "\\item '...7'\n",
       "\\item '...8'\n",
       "\\item '...9'\n",
       "\\item '...10'\n",
       "\\item '...11'\n",
       "\\item '...12'\n",
       "\\item '...13'\n",
       "\\item '...14'\n",
       "\\item '...15'\n",
       "\\item '...16'\n",
       "\\end{enumerate*}\n"
      ],
      "text/markdown": [
       "1. 'Individuals in households deprived in each indicator, 110 economies, circa year 2021 (2018-2023)\\r\\nDate: October 2024'\n",
       "2. '...2'\n",
       "3. '...3'\n",
       "4. '...4'\n",
       "5. '...5'\n",
       "6. '...6'\n",
       "7. '...7'\n",
       "8. '...8'\n",
       "9. '...9'\n",
       "10. '...10'\n",
       "11. '...11'\n",
       "12. '...12'\n",
       "13. '...13'\n",
       "14. '...14'\n",
       "15. '...15'\n",
       "16. '...16'\n",
       "\n",
       "\n"
      ],
      "text/plain": [
       " [1] \"Individuals in households deprived in each indicator, 110 economies, circa year 2021 (2018-2023)\\r\\nDate: October 2024\"\n",
       " [2] \"...2\"                                                                                                                  \n",
       " [3] \"...3\"                                                                                                                  \n",
       " [4] \"...4\"                                                                                                                  \n",
       " [5] \"...5\"                                                                                                                  \n",
       " [6] \"...6\"                                                                                                                  \n",
       " [7] \"...7\"                                                                                                                  \n",
       " [8] \"...8\"                                                                                                                  \n",
       " [9] \"...9\"                                                                                                                  \n",
       "[10] \"...10\"                                                                                                                 \n",
       "[11] \"...11\"                                                                                                                 \n",
       "[12] \"...12\"                                                                                                                 \n",
       "[13] \"...13\"                                                                                                                 \n",
       "[14] \"...14\"                                                                                                                 \n",
       "[15] \"...15\"                                                                                                                 \n",
       "[16] \"...16\"                                                                                                                 "
      ]
     },
     "metadata": {},
     "output_type": "display_data"
    }
   ],
   "source": [
    "colnames(poverty_raw)"
   ]
  },
  {
   "cell_type": "code",
   "execution_count": 69,
   "id": "cc6c6f35-1e53-441e-8c3b-a294e4b260e4",
   "metadata": {},
   "outputs": [
    {
     "name": "stderr",
     "output_type": "stream",
     "text": [
      "\u001b[1m\u001b[22mNew names:\n",
      "\u001b[36m•\u001b[39m `` -> `...11`\n",
      "\u001b[36m•\u001b[39m `` -> `...12`\n",
      "\u001b[36m•\u001b[39m `` -> `...13`\n",
      "\u001b[36m•\u001b[39m `` -> `...14`\n",
      "\u001b[36m•\u001b[39m `` -> `...15`\n"
     ]
    },
    {
     "data": {
      "text/html": [
       "<style>\n",
       ".list-inline {list-style: none; margin:0; padding: 0}\n",
       ".list-inline>li {display: inline-block}\n",
       ".list-inline>li:not(:last-child)::after {content: \"\\00b7\"; padding: 0 .5ex}\n",
       "</style>\n",
       "<ol class=list-inline><li>'Region'</li><li>'Country code'</li><li>'Economy'</li><li>'Reporting year'</li><li>'Survey name'</li><li>'Survey year'</li><li>'Survey coverage'</li><li>'Welfare type'</li><li>'Survey comparability'</li><li>'Deprivation rate (share of population)'</li><li>'...11'</li><li>'...12'</li><li>'...13'</li><li>'...14'</li><li>'...15'</li><li>'Multidimensional poverty headcount ratio (%)'</li></ol>\n"
      ],
      "text/latex": [
       "\\begin{enumerate*}\n",
       "\\item 'Region'\n",
       "\\item 'Country code'\n",
       "\\item 'Economy'\n",
       "\\item 'Reporting year'\n",
       "\\item 'Survey name'\n",
       "\\item 'Survey year'\n",
       "\\item 'Survey coverage'\n",
       "\\item 'Welfare type'\n",
       "\\item 'Survey comparability'\n",
       "\\item 'Deprivation rate (share of population)'\n",
       "\\item '...11'\n",
       "\\item '...12'\n",
       "\\item '...13'\n",
       "\\item '...14'\n",
       "\\item '...15'\n",
       "\\item 'Multidimensional poverty headcount ratio (\\%)'\n",
       "\\end{enumerate*}\n"
      ],
      "text/markdown": [
       "1. 'Region'\n",
       "2. 'Country code'\n",
       "3. 'Economy'\n",
       "4. 'Reporting year'\n",
       "5. 'Survey name'\n",
       "6. 'Survey year'\n",
       "7. 'Survey coverage'\n",
       "8. 'Welfare type'\n",
       "9. 'Survey comparability'\n",
       "10. 'Deprivation rate (share of population)'\n",
       "11. '...11'\n",
       "12. '...12'\n",
       "13. '...13'\n",
       "14. '...14'\n",
       "15. '...15'\n",
       "16. 'Multidimensional poverty headcount ratio (%)'\n",
       "\n",
       "\n"
      ],
      "text/plain": [
       " [1] \"Region\"                                      \n",
       " [2] \"Country code\"                                \n",
       " [3] \"Economy\"                                     \n",
       " [4] \"Reporting year\"                              \n",
       " [5] \"Survey name\"                                 \n",
       " [6] \"Survey year\"                                 \n",
       " [7] \"Survey coverage\"                             \n",
       " [8] \"Welfare type\"                                \n",
       " [9] \"Survey comparability\"                        \n",
       "[10] \"Deprivation rate (share of population)\"      \n",
       "[11] \"...11\"                                       \n",
       "[12] \"...12\"                                       \n",
       "[13] \"...13\"                                       \n",
       "[14] \"...14\"                                       \n",
       "[15] \"...15\"                                       \n",
       "[16] \"Multidimensional poverty headcount ratio (%)\""
      ]
     },
     "metadata": {},
     "output_type": "display_data"
    },
    {
     "data": {
      "text/html": [
       "<table class=\"dataframe\">\n",
       "<caption>A tibble: 6 × 16</caption>\n",
       "<thead>\n",
       "\t<tr><th scope=col>Region</th><th scope=col>Country code</th><th scope=col>Economy</th><th scope=col>Reporting year</th><th scope=col>Survey name</th><th scope=col>Survey year</th><th scope=col>Survey coverage</th><th scope=col>Welfare type</th><th scope=col>Survey comparability</th><th scope=col>Deprivation rate (share of population)</th><th scope=col>...11</th><th scope=col>...12</th><th scope=col>...13</th><th scope=col>...14</th><th scope=col>...15</th><th scope=col>Multidimensional poverty headcount ratio (%)</th></tr>\n",
       "\t<tr><th scope=col>&lt;chr&gt;</th><th scope=col>&lt;chr&gt;</th><th scope=col>&lt;chr&gt;</th><th scope=col>&lt;dbl&gt;</th><th scope=col>&lt;chr&gt;</th><th scope=col>&lt;dbl&gt;</th><th scope=col>&lt;chr&gt;</th><th scope=col>&lt;chr&gt;</th><th scope=col>&lt;dbl&gt;</th><th scope=col>&lt;chr&gt;</th><th scope=col>&lt;chr&gt;</th><th scope=col>&lt;chr&gt;</th><th scope=col>&lt;chr&gt;</th><th scope=col>&lt;chr&gt;</th><th scope=col>&lt;chr&gt;</th><th scope=col>&lt;dbl&gt;</th></tr>\n",
       "</thead>\n",
       "<tbody>\n",
       "\t<tr><td>NA </td><td>NA </td><td>NA       </td><td>  NA</td><td>NA     </td><td>  NA</td><td>NA</td><td>NA</td><td>NA</td><td>Monetary (%)         </td><td>Educational attainment (%)</td><td>Educational enrollment (%)</td><td>Electricity (%)      </td><td>Sanitation (%)     </td><td>Drinking water (%) </td><td>        NA</td></tr>\n",
       "\t<tr><td>SSA</td><td>AGO</td><td>Angola   </td><td>2018</td><td>IDREA  </td><td>2018</td><td>N </td><td>c </td><td> 2</td><td>31.122004985809298   </td><td>29.7534227371215          </td><td>27.443060278892499        </td><td>52.639532089233398   </td><td>53.637516498565596 </td><td>32.106507280141003 </td><td>47.2036064</td></tr>\n",
       "\t<tr><td>ECA</td><td>ALB</td><td>Albania  </td><td>2012</td><td>HBS    </td><td>2018</td><td>N </td><td>c </td><td> 1</td><td>4.8107048496603903E-2</td><td>0.192380091175436         </td><td>-                         </td><td>6.0250010574236498E-2</td><td>6.5797723829746202 </td><td>9.5949657452627903 </td><td> 0.2931614</td></tr>\n",
       "\t<tr><td>LAC</td><td>ARG</td><td>Argentina</td><td>2010</td><td>EPHC-S2</td><td>2021</td><td>U </td><td>i </td><td> 3</td><td>0.89421793818473794  </td><td>1.0853196494281201        </td><td>0.73135080747306302       </td><td>0                    </td><td>0.25745299644768199</td><td>0.36404800517942798</td><td> 0.9065730</td></tr>\n",
       "\t<tr><td>ECA</td><td>ARM</td><td>Armenia  </td><td>2010</td><td>ILCS   </td><td>2021</td><td>N </td><td>c </td><td> 1</td><td>0.52352081984281496  </td><td>0                         </td><td>1.7930038273334499        </td><td>0                    </td><td>0.39772549644112498</td><td>0.66008218894200898</td><td> 0.5235208</td></tr>\n",
       "\t<tr><td>EAP</td><td>AUS</td><td>Australia</td><td>2010</td><td>SIH-LIS</td><td>2018</td><td>N </td><td>I </td><td> 3</td><td>0.516879977658391    </td><td>1.71188004314899          </td><td>-                         </td><td>0                    </td><td>0                  </td><td>-                  </td><td> 2.2157701</td></tr>\n",
       "</tbody>\n",
       "</table>\n"
      ],
      "text/latex": [
       "A tibble: 6 × 16\n",
       "\\begin{tabular}{llllllllllllllll}\n",
       " Region & Country code & Economy & Reporting year & Survey name & Survey year & Survey coverage & Welfare type & Survey comparability & Deprivation rate (share of population) & ...11 & ...12 & ...13 & ...14 & ...15 & Multidimensional poverty headcount ratio (\\%)\\\\\n",
       " <chr> & <chr> & <chr> & <dbl> & <chr> & <dbl> & <chr> & <chr> & <dbl> & <chr> & <chr> & <chr> & <chr> & <chr> & <chr> & <dbl>\\\\\n",
       "\\hline\n",
       "\t NA  & NA  & NA        &   NA & NA      &   NA & NA & NA & NA & Monetary (\\%)          & Educational attainment (\\%) & Educational enrollment (\\%) & Electricity (\\%)       & Sanitation (\\%)      & Drinking water (\\%)  &         NA\\\\\n",
       "\t SSA & AGO & Angola    & 2018 & IDREA   & 2018 & N  & c  &  2 & 31.122004985809298    & 29.7534227371215           & 27.443060278892499         & 52.639532089233398    & 53.637516498565596  & 32.106507280141003  & 47.2036064\\\\\n",
       "\t ECA & ALB & Albania   & 2012 & HBS     & 2018 & N  & c  &  1 & 4.8107048496603903E-2 & 0.192380091175436          & -                          & 6.0250010574236498E-2 & 6.5797723829746202  & 9.5949657452627903  &  0.2931614\\\\\n",
       "\t LAC & ARG & Argentina & 2010 & EPHC-S2 & 2021 & U  & i  &  3 & 0.89421793818473794   & 1.0853196494281201         & 0.73135080747306302        & 0                     & 0.25745299644768199 & 0.36404800517942798 &  0.9065730\\\\\n",
       "\t ECA & ARM & Armenia   & 2010 & ILCS    & 2021 & N  & c  &  1 & 0.52352081984281496   & 0                          & 1.7930038273334499         & 0                     & 0.39772549644112498 & 0.66008218894200898 &  0.5235208\\\\\n",
       "\t EAP & AUS & Australia & 2010 & SIH-LIS & 2018 & N  & I  &  3 & 0.516879977658391     & 1.71188004314899           & -                          & 0                     & 0                   & -                   &  2.2157701\\\\\n",
       "\\end{tabular}\n"
      ],
      "text/markdown": [
       "\n",
       "A tibble: 6 × 16\n",
       "\n",
       "| Region &lt;chr&gt; | Country code &lt;chr&gt; | Economy &lt;chr&gt; | Reporting year &lt;dbl&gt; | Survey name &lt;chr&gt; | Survey year &lt;dbl&gt; | Survey coverage &lt;chr&gt; | Welfare type &lt;chr&gt; | Survey comparability &lt;dbl&gt; | Deprivation rate (share of population) &lt;chr&gt; | ...11 &lt;chr&gt; | ...12 &lt;chr&gt; | ...13 &lt;chr&gt; | ...14 &lt;chr&gt; | ...15 &lt;chr&gt; | Multidimensional poverty headcount ratio (%) &lt;dbl&gt; |\n",
       "|---|---|---|---|---|---|---|---|---|---|---|---|---|---|---|---|\n",
       "| NA  | NA  | NA        |   NA | NA      |   NA | NA | NA | NA | Monetary (%)          | Educational attainment (%) | Educational enrollment (%) | Electricity (%)       | Sanitation (%)      | Drinking water (%)  |         NA |\n",
       "| SSA | AGO | Angola    | 2018 | IDREA   | 2018 | N  | c  |  2 | 31.122004985809298    | 29.7534227371215           | 27.443060278892499         | 52.639532089233398    | 53.637516498565596  | 32.106507280141003  | 47.2036064 |\n",
       "| ECA | ALB | Albania   | 2012 | HBS     | 2018 | N  | c  |  1 | 4.8107048496603903E-2 | 0.192380091175436          | -                          | 6.0250010574236498E-2 | 6.5797723829746202  | 9.5949657452627903  |  0.2931614 |\n",
       "| LAC | ARG | Argentina | 2010 | EPHC-S2 | 2021 | U  | i  |  3 | 0.89421793818473794   | 1.0853196494281201         | 0.73135080747306302        | 0                     | 0.25745299644768199 | 0.36404800517942798 |  0.9065730 |\n",
       "| ECA | ARM | Armenia   | 2010 | ILCS    | 2021 | N  | c  |  1 | 0.52352081984281496   | 0                          | 1.7930038273334499         | 0                     | 0.39772549644112498 | 0.66008218894200898 |  0.5235208 |\n",
       "| EAP | AUS | Australia | 2010 | SIH-LIS | 2018 | N  | I  |  3 | 0.516879977658391     | 1.71188004314899           | -                          | 0                     | 0                   | -                   |  2.2157701 |\n",
       "\n"
      ],
      "text/plain": [
       "  Region Country code Economy   Reporting year Survey name Survey year\n",
       "1 NA     NA           NA          NA           NA            NA       \n",
       "2 SSA    AGO          Angola    2018           IDREA       2018       \n",
       "3 ECA    ALB          Albania   2012           HBS         2018       \n",
       "4 LAC    ARG          Argentina 2010           EPHC-S2     2021       \n",
       "5 ECA    ARM          Armenia   2010           ILCS        2021       \n",
       "6 EAP    AUS          Australia 2010           SIH-LIS     2018       \n",
       "  Survey coverage Welfare type Survey comparability\n",
       "1 NA              NA           NA                  \n",
       "2 N               c             2                  \n",
       "3 N               c             1                  \n",
       "4 U               i             3                  \n",
       "5 N               c             1                  \n",
       "6 N               I             3                  \n",
       "  Deprivation rate (share of population) ...11                     \n",
       "1 Monetary (%)                           Educational attainment (%)\n",
       "2 31.122004985809298                     29.7534227371215          \n",
       "3 4.8107048496603903E-2                  0.192380091175436         \n",
       "4 0.89421793818473794                    1.0853196494281201        \n",
       "5 0.52352081984281496                    0                         \n",
       "6 0.516879977658391                      1.71188004314899          \n",
       "  ...12                      ...13                 ...14              \n",
       "1 Educational enrollment (%) Electricity (%)       Sanitation (%)     \n",
       "2 27.443060278892499         52.639532089233398    53.637516498565596 \n",
       "3 -                          6.0250010574236498E-2 6.5797723829746202 \n",
       "4 0.73135080747306302        0                     0.25745299644768199\n",
       "5 1.7930038273334499         0                     0.39772549644112498\n",
       "6 -                          0                     0                  \n",
       "  ...15               Multidimensional poverty headcount ratio (%)\n",
       "1 Drinking water (%)          NA                                  \n",
       "2 32.106507280141003  47.2036064                                  \n",
       "3 9.5949657452627903   0.2931614                                  \n",
       "4 0.36404800517942798  0.9065730                                  \n",
       "5 0.66008218894200898  0.5235208                                  \n",
       "6 -                    2.2157701                                  "
      ]
     },
     "metadata": {},
     "output_type": "display_data"
    }
   ],
   "source": [
    "\n",
    "poverty_raw <- read_excel(\n",
    "  \"C:/Users/Administrator/Downloads/internship_task_dscience-main/internship_task_dscience-main/multidimensional_poverty.xlsx\",\n",
    "  skip = 1  \n",
    ")\n",
    "\n",
    "\n",
    "names(poverty_raw)\n",
    "head(poverty_raw)"
   ]
  },
  {
   "cell_type": "code",
   "execution_count": 70,
   "id": "f6bab629-3714-4722-a36b-ddff2c1a1893",
   "metadata": {},
   "outputs": [
    {
     "data": {
      "text/html": [
       "<style>\n",
       ".list-inline {list-style: none; margin:0; padding: 0}\n",
       ".list-inline>li {display: inline-block}\n",
       ".list-inline>li:not(:last-child)::after {content: \"\\00b7\"; padding: 0 .5ex}\n",
       "</style>\n",
       "<ol class=list-inline><li>'region'</li><li>'country_code'</li><li>'economy'</li><li>'reporting_year'</li><li>'survey_name'</li><li>'survey_year'</li><li>'survey_coverage'</li><li>'welfare_type'</li><li>'survey_comparability'</li><li>'deprivation_rate_share_of_population'</li><li>'x11'</li><li>'x12'</li><li>'x13'</li><li>'x14'</li><li>'x15'</li><li>'multidimensional_poverty_headcount_ratio_percent'</li></ol>\n"
      ],
      "text/latex": [
       "\\begin{enumerate*}\n",
       "\\item 'region'\n",
       "\\item 'country\\_code'\n",
       "\\item 'economy'\n",
       "\\item 'reporting\\_year'\n",
       "\\item 'survey\\_name'\n",
       "\\item 'survey\\_year'\n",
       "\\item 'survey\\_coverage'\n",
       "\\item 'welfare\\_type'\n",
       "\\item 'survey\\_comparability'\n",
       "\\item 'deprivation\\_rate\\_share\\_of\\_population'\n",
       "\\item 'x11'\n",
       "\\item 'x12'\n",
       "\\item 'x13'\n",
       "\\item 'x14'\n",
       "\\item 'x15'\n",
       "\\item 'multidimensional\\_poverty\\_headcount\\_ratio\\_percent'\n",
       "\\end{enumerate*}\n"
      ],
      "text/markdown": [
       "1. 'region'\n",
       "2. 'country_code'\n",
       "3. 'economy'\n",
       "4. 'reporting_year'\n",
       "5. 'survey_name'\n",
       "6. 'survey_year'\n",
       "7. 'survey_coverage'\n",
       "8. 'welfare_type'\n",
       "9. 'survey_comparability'\n",
       "10. 'deprivation_rate_share_of_population'\n",
       "11. 'x11'\n",
       "12. 'x12'\n",
       "13. 'x13'\n",
       "14. 'x14'\n",
       "15. 'x15'\n",
       "16. 'multidimensional_poverty_headcount_ratio_percent'\n",
       "\n",
       "\n"
      ],
      "text/plain": [
       " [1] \"region\"                                          \n",
       " [2] \"country_code\"                                    \n",
       " [3] \"economy\"                                         \n",
       " [4] \"reporting_year\"                                  \n",
       " [5] \"survey_name\"                                     \n",
       " [6] \"survey_year\"                                     \n",
       " [7] \"survey_coverage\"                                 \n",
       " [8] \"welfare_type\"                                    \n",
       " [9] \"survey_comparability\"                            \n",
       "[10] \"deprivation_rate_share_of_population\"            \n",
       "[11] \"x11\"                                             \n",
       "[12] \"x12\"                                             \n",
       "[13] \"x13\"                                             \n",
       "[14] \"x14\"                                             \n",
       "[15] \"x15\"                                             \n",
       "[16] \"multidimensional_poverty_headcount_ratio_percent\""
      ]
     },
     "metadata": {},
     "output_type": "display_data"
    }
   ],
   "source": [
    "# Standardize column names \n",
    "poverty_clean <- poverty_raw %>%\n",
    "  clean_names()  \n",
    "\n",
    "# cleaned names\n",
    "names(poverty_clean)"
   ]
  },
  {
   "cell_type": "code",
   "execution_count": 76,
   "id": "579166e4-8b22-4e59-91f0-b059f9ffe508",
   "metadata": {},
   "outputs": [
    {
     "data": {
      "text/html": [
       "<style>\n",
       ".list-inline {list-style: none; margin:0; padding: 0}\n",
       ".list-inline>li {display: inline-block}\n",
       ".list-inline>li:not(:last-child)::after {content: \"\\00b7\"; padding: 0 .5ex}\n",
       "</style>\n",
       "<ol class=list-inline><li>'region'</li><li>'country_code'</li><li>'country'</li><li>'year'</li><li>'survey_name'</li><li>'survey_year'</li><li>'survey_coverage'</li><li>'welfare_type'</li><li>'survey_comparability'</li><li>'poverty_value'</li><li>'x11'</li><li>'x12'</li><li>'x13'</li><li>'x14'</li><li>'x15'</li><li>'multidimensional_poverty_headcount_ratio_percent'</li></ol>\n"
      ],
      "text/latex": [
       "\\begin{enumerate*}\n",
       "\\item 'region'\n",
       "\\item 'country\\_code'\n",
       "\\item 'country'\n",
       "\\item 'year'\n",
       "\\item 'survey\\_name'\n",
       "\\item 'survey\\_year'\n",
       "\\item 'survey\\_coverage'\n",
       "\\item 'welfare\\_type'\n",
       "\\item 'survey\\_comparability'\n",
       "\\item 'poverty\\_value'\n",
       "\\item 'x11'\n",
       "\\item 'x12'\n",
       "\\item 'x13'\n",
       "\\item 'x14'\n",
       "\\item 'x15'\n",
       "\\item 'multidimensional\\_poverty\\_headcount\\_ratio\\_percent'\n",
       "\\end{enumerate*}\n"
      ],
      "text/markdown": [
       "1. 'region'\n",
       "2. 'country_code'\n",
       "3. 'country'\n",
       "4. 'year'\n",
       "5. 'survey_name'\n",
       "6. 'survey_year'\n",
       "7. 'survey_coverage'\n",
       "8. 'welfare_type'\n",
       "9. 'survey_comparability'\n",
       "10. 'poverty_value'\n",
       "11. 'x11'\n",
       "12. 'x12'\n",
       "13. 'x13'\n",
       "14. 'x14'\n",
       "15. 'x15'\n",
       "16. 'multidimensional_poverty_headcount_ratio_percent'\n",
       "\n",
       "\n"
      ],
      "text/plain": [
       " [1] \"region\"                                          \n",
       " [2] \"country_code\"                                    \n",
       " [3] \"country\"                                         \n",
       " [4] \"year\"                                            \n",
       " [5] \"survey_name\"                                     \n",
       " [6] \"survey_year\"                                     \n",
       " [7] \"survey_coverage\"                                 \n",
       " [8] \"welfare_type\"                                    \n",
       " [9] \"survey_comparability\"                            \n",
       "[10] \"poverty_value\"                                   \n",
       "[11] \"x11\"                                             \n",
       "[12] \"x12\"                                             \n",
       "[13] \"x13\"                                             \n",
       "[14] \"x14\"                                             \n",
       "[15] \"x15\"                                             \n",
       "[16] \"multidimensional_poverty_headcount_ratio_percent\""
      ]
     },
     "metadata": {},
     "output_type": "display_data"
    }
   ],
   "source": [
    "colnames(poverty_clean)"
   ]
  },
  {
   "cell_type": "code",
   "execution_count": 77,
   "id": "e1879867-7c19-4655-989f-b8e7a2b51c9d",
   "metadata": {},
   "outputs": [
    {
     "name": "stdout",
     "output_type": "stream",
     "text": [
      "Rows: 110\n",
      "Columns: 6\n",
      "$ region            \u001b[3m\u001b[90m<chr>\u001b[39m\u001b[23m \"SSA\"\u001b[90m, \u001b[39m\"ECA\"\u001b[90m, \u001b[39m\"LAC\"\u001b[90m, \u001b[39m\"ECA\"\u001b[90m, \u001b[39m\"EAP\"\u001b[90m, \u001b[39m\"ECA\"\u001b[90m, \u001b[39m\"SSA\"\u001b[90m, \u001b[39m\"EC…\n",
      "$ country_code      \u001b[3m\u001b[90m<chr>\u001b[39m\u001b[23m \"AGO\"\u001b[90m, \u001b[39m\"ALB\"\u001b[90m, \u001b[39m\"ARG\"\u001b[90m, \u001b[39m\"ARM\"\u001b[90m, \u001b[39m\"AUS\"\u001b[90m, \u001b[39m\"AUT\"\u001b[90m, \u001b[39m\"BDI\"\u001b[90m, \u001b[39m\"BE…\n",
      "$ country           \u001b[3m\u001b[90m<chr>\u001b[39m\u001b[23m \"Angola\"\u001b[90m, \u001b[39m\"Albania\"\u001b[90m, \u001b[39m\"Argentina\"\u001b[90m, \u001b[39m\"Armenia\"\u001b[90m, \u001b[39m\"Austra…\n",
      "$ year              \u001b[3m\u001b[90m<dbl>\u001b[39m\u001b[23m 2018\u001b[90m, \u001b[39m2012\u001b[90m, \u001b[39m2010\u001b[90m, \u001b[39m2010\u001b[90m, \u001b[39m2010\u001b[90m, \u001b[39m2009\u001b[90m, \u001b[39m2013\u001b[90m, \u001b[39m2009\u001b[90m, \u001b[39m2015…\n",
      "$ poverty_headcount \u001b[3m\u001b[90m<dbl>\u001b[39m\u001b[23m 47.20360637\u001b[90m, \u001b[39m0.29316142\u001b[90m, \u001b[39m0.90657296\u001b[90m, \u001b[39m0.52352082\u001b[90m, \u001b[39m2.2…\n",
      "$ deprivation_rate  \u001b[3m\u001b[90m<chr>\u001b[39m\u001b[23m \"31.122004985809298\"\u001b[90m, \u001b[39m\"4.8107048496603903E-2\"\u001b[90m, \u001b[39m\"0.89…\n"
     ]
    },
    {
     "data": {
      "text/html": [
       "<table class=\"dataframe\">\n",
       "<caption>A tibble: 6 × 6</caption>\n",
       "<thead>\n",
       "\t<tr><th scope=col>region</th><th scope=col>country_code</th><th scope=col>country</th><th scope=col>year</th><th scope=col>poverty_headcount</th><th scope=col>deprivation_rate</th></tr>\n",
       "\t<tr><th scope=col>&lt;chr&gt;</th><th scope=col>&lt;chr&gt;</th><th scope=col>&lt;chr&gt;</th><th scope=col>&lt;dbl&gt;</th><th scope=col>&lt;dbl&gt;</th><th scope=col>&lt;chr&gt;</th></tr>\n",
       "</thead>\n",
       "<tbody>\n",
       "\t<tr><td>SSA</td><td>AGO</td><td>Angola   </td><td>2018</td><td>47.2036064</td><td>31.122004985809298   </td></tr>\n",
       "\t<tr><td>ECA</td><td>ALB</td><td>Albania  </td><td>2012</td><td> 0.2931614</td><td>4.8107048496603903E-2</td></tr>\n",
       "\t<tr><td>LAC</td><td>ARG</td><td>Argentina</td><td>2010</td><td> 0.9065730</td><td>0.89421793818473794  </td></tr>\n",
       "\t<tr><td>ECA</td><td>ARM</td><td>Armenia  </td><td>2010</td><td> 0.5235208</td><td>0.52352081984281496  </td></tr>\n",
       "\t<tr><td>EAP</td><td>AUS</td><td>Australia</td><td>2010</td><td> 2.2157701</td><td>0.516879977658391    </td></tr>\n",
       "\t<tr><td>ECA</td><td>AUT</td><td>Austria  </td><td>2009</td><td> 0.6622446</td><td>0.48582218587398501  </td></tr>\n",
       "</tbody>\n",
       "</table>\n"
      ],
      "text/latex": [
       "A tibble: 6 × 6\n",
       "\\begin{tabular}{llllll}\n",
       " region & country\\_code & country & year & poverty\\_headcount & deprivation\\_rate\\\\\n",
       " <chr> & <chr> & <chr> & <dbl> & <dbl> & <chr>\\\\\n",
       "\\hline\n",
       "\t SSA & AGO & Angola    & 2018 & 47.2036064 & 31.122004985809298   \\\\\n",
       "\t ECA & ALB & Albania   & 2012 &  0.2931614 & 4.8107048496603903E-2\\\\\n",
       "\t LAC & ARG & Argentina & 2010 &  0.9065730 & 0.89421793818473794  \\\\\n",
       "\t ECA & ARM & Armenia   & 2010 &  0.5235208 & 0.52352081984281496  \\\\\n",
       "\t EAP & AUS & Australia & 2010 &  2.2157701 & 0.516879977658391    \\\\\n",
       "\t ECA & AUT & Austria   & 2009 &  0.6622446 & 0.48582218587398501  \\\\\n",
       "\\end{tabular}\n"
      ],
      "text/markdown": [
       "\n",
       "A tibble: 6 × 6\n",
       "\n",
       "| region &lt;chr&gt; | country_code &lt;chr&gt; | country &lt;chr&gt; | year &lt;dbl&gt; | poverty_headcount &lt;dbl&gt; | deprivation_rate &lt;chr&gt; |\n",
       "|---|---|---|---|---|---|\n",
       "| SSA | AGO | Angola    | 2018 | 47.2036064 | 31.122004985809298    |\n",
       "| ECA | ALB | Albania   | 2012 |  0.2931614 | 4.8107048496603903E-2 |\n",
       "| LAC | ARG | Argentina | 2010 |  0.9065730 | 0.89421793818473794   |\n",
       "| ECA | ARM | Armenia   | 2010 |  0.5235208 | 0.52352081984281496   |\n",
       "| EAP | AUS | Australia | 2010 |  2.2157701 | 0.516879977658391     |\n",
       "| ECA | AUT | Austria   | 2009 |  0.6622446 | 0.48582218587398501   |\n",
       "\n"
      ],
      "text/plain": [
       "  region country_code country   year poverty_headcount deprivation_rate     \n",
       "1 SSA    AGO          Angola    2018 47.2036064        31.122004985809298   \n",
       "2 ECA    ALB          Albania   2012  0.2931614        4.8107048496603903E-2\n",
       "3 LAC    ARG          Argentina 2010  0.9065730        0.89421793818473794  \n",
       "4 ECA    ARM          Armenia   2010  0.5235208        0.52352081984281496  \n",
       "5 EAP    AUS          Australia 2010  2.2157701        0.516879977658391    \n",
       "6 ECA    AUT          Austria   2009  0.6622446        0.48582218587398501  "
      ]
     },
     "metadata": {},
     "output_type": "display_data"
    }
   ],
   "source": [
    "poverty_final <- poverty_clean %>%\n",
    "  select(\n",
    "    region,\n",
    "    country_code,\n",
    "    country,\n",
    "    year,\n",
    "    poverty_headcount = multidimensional_poverty_headcount_ratio_percent,\n",
    "    deprivation_rate = poverty_value\n",
    "  ) %>%\n",
    "  filter(!is.na(country) & country != \"\")\n",
    "\n",
    "# Verify\n",
    "glimpse(poverty_final)\n",
    "head(poverty_final)"
   ]
  },
  {
   "cell_type": "code",
   "execution_count": 79,
   "id": "d810e7ef-c864-424f-bee0-dba08f4b0106",
   "metadata": {
    "scrolled": true
   },
   "outputs": [
    {
     "data": {
      "text/html": [
       "<style>\n",
       ".list-inline {list-style: none; margin:0; padding: 0}\n",
       ".list-inline>li {display: inline-block}\n",
       ".list-inline>li:not(:last-child)::after {content: \"\\00b7\"; padding: 0 .5ex}\n",
       "</style>\n",
       "<ol class=list-inline><li>'Country'</li><li>'Year'</li><li>'Value'</li><li>'ParentLocationCode'</li><li>'ParentLocation'</li></ol>\n"
      ],
      "text/latex": [
       "\\begin{enumerate*}\n",
       "\\item 'Country'\n",
       "\\item 'Year'\n",
       "\\item 'Value'\n",
       "\\item 'ParentLocationCode'\n",
       "\\item 'ParentLocation'\n",
       "\\end{enumerate*}\n"
      ],
      "text/markdown": [
       "1. 'Country'\n",
       "2. 'Year'\n",
       "3. 'Value'\n",
       "4. 'ParentLocationCode'\n",
       "5. 'ParentLocation'\n",
       "\n",
       "\n"
      ],
      "text/plain": [
       "[1] \"Country\"            \"Year\"               \"Value\"             \n",
       "[4] \"ParentLocationCode\" \"ParentLocation\"    "
      ]
     },
     "metadata": {},
     "output_type": "display_data"
    },
    {
     "data": {
      "text/html": [
       "<style>\n",
       ".list-inline {list-style: none; margin:0; padding: 0}\n",
       ".list-inline>li {display: inline-block}\n",
       ".list-inline>li:not(:last-child)::after {content: \"\\00b7\"; padding: 0 .5ex}\n",
       "</style>\n",
       "<ol class=list-inline><li>'region'</li><li>'country_code'</li><li>'country'</li><li>'year'</li><li>'poverty_headcount'</li><li>'deprivation_rate'</li></ol>\n"
      ],
      "text/latex": [
       "\\begin{enumerate*}\n",
       "\\item 'region'\n",
       "\\item 'country\\_code'\n",
       "\\item 'country'\n",
       "\\item 'year'\n",
       "\\item 'poverty\\_headcount'\n",
       "\\item 'deprivation\\_rate'\n",
       "\\end{enumerate*}\n"
      ],
      "text/markdown": [
       "1. 'region'\n",
       "2. 'country_code'\n",
       "3. 'country'\n",
       "4. 'year'\n",
       "5. 'poverty_headcount'\n",
       "6. 'deprivation_rate'\n",
       "\n",
       "\n"
      ],
      "text/plain": [
       "[1] \"region\"            \"country_code\"      \"country\"          \n",
       "[4] \"year\"              \"poverty_headcount\" \"deprivation_rate\" "
      ]
     },
     "metadata": {},
     "output_type": "display_data"
    }
   ],
   "source": [
    "# Check HIV data columns\n",
    "names(hiv_data)\n",
    "\n",
    "# Check poverty data columns\n",
    "names(poverty_final)"
   ]
  },
  {
   "cell_type": "code",
   "execution_count": 82,
   "id": "2764fe23-0e76-4f10-99e5-73e8094b814a",
   "metadata": {},
   "outputs": [
    {
     "name": "stdout",
     "output_type": "stream",
     "text": [
      "Rows: 1,552\n",
      "Columns: 9\n",
      "$ Country            \u001b[3m\u001b[90m<chr>\u001b[39m\u001b[23m \"Angola\"\u001b[90m, \u001b[39m\"Angola\"\u001b[90m, \u001b[39m\"Angola\"\u001b[90m, \u001b[39m\"Angola\"\u001b[90m, \u001b[39m\"Angola\"\u001b[90m, \u001b[39m\"…\n",
      "$ Year               \u001b[3m\u001b[90m<dbl>\u001b[39m\u001b[23m 2023\u001b[90m, \u001b[39m2022\u001b[90m, \u001b[39m2021\u001b[90m, \u001b[39m2020\u001b[90m, \u001b[39m2015\u001b[90m, \u001b[39m2010\u001b[90m, \u001b[39m2005\u001b[90m, \u001b[39m2000\u001b[90m, \u001b[39m202…\n",
      "$ Value              \u001b[3m\u001b[90m<dbl>\u001b[39m\u001b[23m 320000\u001b[90m, \u001b[39m320000\u001b[90m, \u001b[39m320000\u001b[90m, \u001b[39m320000\u001b[90m, \u001b[39m300000\u001b[90m, \u001b[39m250000\u001b[90m, \u001b[39m190…\n",
      "$ ParentLocationCode \u001b[3m\u001b[90m<chr>\u001b[39m\u001b[23m \"AFR\"\u001b[90m, \u001b[39m\"AFR\"\u001b[90m, \u001b[39m\"AFR\"\u001b[90m, \u001b[39m\"AFR\"\u001b[90m, \u001b[39m\"AFR\"\u001b[90m, \u001b[39m\"AFR\"\u001b[90m, \u001b[39m\"AFR\"\u001b[90m, \u001b[39m\"A…\n",
      "$ ParentLocation     \u001b[3m\u001b[90m<chr>\u001b[39m\u001b[23m \"Africa\"\u001b[90m, \u001b[39m\"Africa\"\u001b[90m, \u001b[39m\"Africa\"\u001b[90m, \u001b[39m\"Africa\"\u001b[90m, \u001b[39m\"Africa\"\u001b[90m, \u001b[39m\"…\n",
      "$ region             \u001b[3m\u001b[90m<chr>\u001b[39m\u001b[23m \u001b[31mNA\u001b[39m\u001b[90m, \u001b[39m\u001b[31mNA\u001b[39m\u001b[90m, \u001b[39m\u001b[31mNA\u001b[39m\u001b[90m, \u001b[39m\u001b[31mNA\u001b[39m\u001b[90m, \u001b[39m\u001b[31mNA\u001b[39m\u001b[90m, \u001b[39m\u001b[31mNA\u001b[39m\u001b[90m, \u001b[39m\u001b[31mNA\u001b[39m\u001b[90m, \u001b[39m\u001b[31mNA\u001b[39m\u001b[90m, \u001b[39m\u001b[31mNA\u001b[39m\u001b[90m, \u001b[39m\u001b[31mNA\u001b[39m\u001b[90m, \u001b[39m\u001b[31mNA\u001b[39m\u001b[90m, \u001b[39m\u001b[31mNA\u001b[39m\u001b[90m, \u001b[39m\u001b[31mNA\u001b[39m\u001b[90m,\u001b[39m…\n",
      "$ country_code       \u001b[3m\u001b[90m<chr>\u001b[39m\u001b[23m \u001b[31mNA\u001b[39m\u001b[90m, \u001b[39m\u001b[31mNA\u001b[39m\u001b[90m, \u001b[39m\u001b[31mNA\u001b[39m\u001b[90m, \u001b[39m\u001b[31mNA\u001b[39m\u001b[90m, \u001b[39m\u001b[31mNA\u001b[39m\u001b[90m, \u001b[39m\u001b[31mNA\u001b[39m\u001b[90m, \u001b[39m\u001b[31mNA\u001b[39m\u001b[90m, \u001b[39m\u001b[31mNA\u001b[39m\u001b[90m, \u001b[39m\u001b[31mNA\u001b[39m\u001b[90m, \u001b[39m\u001b[31mNA\u001b[39m\u001b[90m, \u001b[39m\u001b[31mNA\u001b[39m\u001b[90m, \u001b[39m\u001b[31mNA\u001b[39m\u001b[90m, \u001b[39m\u001b[31mNA\u001b[39m\u001b[90m,\u001b[39m…\n",
      "$ poverty_headcount  \u001b[3m\u001b[90m<dbl>\u001b[39m\u001b[23m \u001b[31mNA\u001b[39m\u001b[90m, \u001b[39m\u001b[31mNA\u001b[39m\u001b[90m, \u001b[39m\u001b[31mNA\u001b[39m\u001b[90m, \u001b[39m\u001b[31mNA\u001b[39m\u001b[90m, \u001b[39m\u001b[31mNA\u001b[39m\u001b[90m, \u001b[39m\u001b[31mNA\u001b[39m\u001b[90m, \u001b[39m\u001b[31mNA\u001b[39m\u001b[90m, \u001b[39m\u001b[31mNA\u001b[39m\u001b[90m, \u001b[39m\u001b[31mNA\u001b[39m\u001b[90m, \u001b[39m\u001b[31mNA\u001b[39m\u001b[90m, \u001b[39m\u001b[31mNA\u001b[39m\u001b[90m, \u001b[39m\u001b[31mNA\u001b[39m\u001b[90m, \u001b[39m\u001b[31mNA\u001b[39m\u001b[90m,\u001b[39m…\n",
      "$ deprivation_rate   \u001b[3m\u001b[90m<chr>\u001b[39m\u001b[23m \u001b[31mNA\u001b[39m\u001b[90m, \u001b[39m\u001b[31mNA\u001b[39m\u001b[90m, \u001b[39m\u001b[31mNA\u001b[39m\u001b[90m, \u001b[39m\u001b[31mNA\u001b[39m\u001b[90m, \u001b[39m\u001b[31mNA\u001b[39m\u001b[90m, \u001b[39m\u001b[31mNA\u001b[39m\u001b[90m, \u001b[39m\u001b[31mNA\u001b[39m\u001b[90m, \u001b[39m\u001b[31mNA\u001b[39m\u001b[90m, \u001b[39m\u001b[31mNA\u001b[39m\u001b[90m, \u001b[39m\u001b[31mNA\u001b[39m\u001b[90m, \u001b[39m\u001b[31mNA\u001b[39m\u001b[90m, \u001b[39m\u001b[31mNA\u001b[39m\u001b[90m, \u001b[39m\u001b[31mNA\u001b[39m\u001b[90m,\u001b[39m…\n"
     ]
    },
    {
     "data": {
      "text/html": [
       "<table class=\"dataframe\">\n",
       "<caption>A tibble: 1 × 2</caption>\n",
       "<thead>\n",
       "\t<tr><th scope=col>matched</th><th scope=col>unmatched</th></tr>\n",
       "\t<tr><th scope=col>&lt;dbl&gt;</th><th scope=col>&lt;dbl&gt;</th></tr>\n",
       "</thead>\n",
       "<tbody>\n",
       "\t<tr><td>0.02706186</td><td>0.9729381</td></tr>\n",
       "</tbody>\n",
       "</table>\n"
      ],
      "text/latex": [
       "A tibble: 1 × 2\n",
       "\\begin{tabular}{ll}\n",
       " matched & unmatched\\\\\n",
       " <dbl> & <dbl>\\\\\n",
       "\\hline\n",
       "\t 0.02706186 & 0.9729381\\\\\n",
       "\\end{tabular}\n"
      ],
      "text/markdown": [
       "\n",
       "A tibble: 1 × 2\n",
       "\n",
       "| matched &lt;dbl&gt; | unmatched &lt;dbl&gt; |\n",
       "|---|---|\n",
       "| 0.02706186 | 0.9729381 |\n",
       "\n"
      ],
      "text/plain": [
       "  matched    unmatched\n",
       "1 0.02706186 0.9729381"
      ]
     },
     "metadata": {},
     "output_type": "display_data"
    }
   ],
   "source": [
    "glimpse(merged_data)\n",
    "\n",
    "# Check merge success rate\n",
    "merged_data %>%\n",
    "  summarise(\n",
    "    matched = mean(!is.na(poverty_headcount)),\n",
    "    unmatched = mean(is.na(poverty_headcount))\n",
    "  )"
   ]
  },
  {
   "cell_type": "code",
   "execution_count": 16,
   "id": "5d0bf299-003b-444d-a653-d9ec806da3c2",
   "metadata": {},
   "outputs": [
    {
     "data": {
      "text/html": [
       "<style>\n",
       ".list-inline {list-style: none; margin:0; padding: 0}\n",
       ".list-inline>li {display: inline-block}\n",
       ".list-inline>li:not(:last-child)::after {content: \"\\00b7\"; padding: 0 .5ex}\n",
       "</style>\n",
       "<ol class=list-inline><li>'IndicatorCode'</li><li>'Indicator'</li><li>'ValueType'</li><li>'ParentLocationCode'</li><li>'ParentLocation'</li><li>'Location type'</li><li>'SpatialDimValueCode'</li><li>'Location'</li><li>'Period type'</li><li>'Period'</li><li>'Value'</li><li>'RegionCode'</li><li>'CountryCode'</li><li>'Country'</li><li>'Year'</li><li>'IDREA'</li><li>'Year.1'</li><li>'N'</li><li>'c'</li><li>'Deprivation Score'</li><li>'Income Deprivation'</li><li>'Education Deprivation'</li><li>'School Enrolment Deprivation'</li><li>'Electricity Deprivation'</li><li>'Sanitation Deprivation'</li><li>'Drinking Water Deprivation'</li><li>'Housing Deprivation'</li></ol>\n"
      ],
      "text/latex": [
       "\\begin{enumerate*}\n",
       "\\item 'IndicatorCode'\n",
       "\\item 'Indicator'\n",
       "\\item 'ValueType'\n",
       "\\item 'ParentLocationCode'\n",
       "\\item 'ParentLocation'\n",
       "\\item 'Location type'\n",
       "\\item 'SpatialDimValueCode'\n",
       "\\item 'Location'\n",
       "\\item 'Period type'\n",
       "\\item 'Period'\n",
       "\\item 'Value'\n",
       "\\item 'RegionCode'\n",
       "\\item 'CountryCode'\n",
       "\\item 'Country'\n",
       "\\item 'Year'\n",
       "\\item 'IDREA'\n",
       "\\item 'Year.1'\n",
       "\\item 'N'\n",
       "\\item 'c'\n",
       "\\item 'Deprivation Score'\n",
       "\\item 'Income Deprivation'\n",
       "\\item 'Education Deprivation'\n",
       "\\item 'School Enrolment Deprivation'\n",
       "\\item 'Electricity Deprivation'\n",
       "\\item 'Sanitation Deprivation'\n",
       "\\item 'Drinking Water Deprivation'\n",
       "\\item 'Housing Deprivation'\n",
       "\\end{enumerate*}\n"
      ],
      "text/markdown": [
       "1. 'IndicatorCode'\n",
       "2. 'Indicator'\n",
       "3. 'ValueType'\n",
       "4. 'ParentLocationCode'\n",
       "5. 'ParentLocation'\n",
       "6. 'Location type'\n",
       "7. 'SpatialDimValueCode'\n",
       "8. 'Location'\n",
       "9. 'Period type'\n",
       "10. 'Period'\n",
       "11. 'Value'\n",
       "12. 'RegionCode'\n",
       "13. 'CountryCode'\n",
       "14. 'Country'\n",
       "15. 'Year'\n",
       "16. 'IDREA'\n",
       "17. 'Year.1'\n",
       "18. 'N'\n",
       "19. 'c'\n",
       "20. 'Deprivation Score'\n",
       "21. 'Income Deprivation'\n",
       "22. 'Education Deprivation'\n",
       "23. 'School Enrolment Deprivation'\n",
       "24. 'Electricity Deprivation'\n",
       "25. 'Sanitation Deprivation'\n",
       "26. 'Drinking Water Deprivation'\n",
       "27. 'Housing Deprivation'\n",
       "\n",
       "\n"
      ],
      "text/plain": [
       " [1] \"IndicatorCode\"                \"Indicator\"                   \n",
       " [3] \"ValueType\"                    \"ParentLocationCode\"          \n",
       " [5] \"ParentLocation\"               \"Location type\"               \n",
       " [7] \"SpatialDimValueCode\"          \"Location\"                    \n",
       " [9] \"Period type\"                  \"Period\"                      \n",
       "[11] \"Value\"                        \"RegionCode\"                  \n",
       "[13] \"CountryCode\"                  \"Country\"                     \n",
       "[15] \"Year\"                         \"IDREA\"                       \n",
       "[17] \"Year.1\"                       \"N\"                           \n",
       "[19] \"c\"                            \"Deprivation Score\"           \n",
       "[21] \"Income Deprivation\"           \"Education Deprivation\"       \n",
       "[23] \"School Enrolment Deprivation\" \"Electricity Deprivation\"     \n",
       "[25] \"Sanitation Deprivation\"       \"Drinking Water Deprivation\"  \n",
       "[27] \"Housing Deprivation\"         "
      ]
     },
     "metadata": {},
     "output_type": "display_data"
    }
   ],
   "source": [
    "colnames(merged_data)\n"
   ]
  },
  {
   "cell_type": "code",
   "execution_count": 26,
   "id": "118994a8-f012-4168-a981-1a4d899d6116",
   "metadata": {},
   "outputs": [
    {
     "name": "stderr",
     "output_type": "stream",
     "text": [
      "\u001b[1m\u001b[22m\u001b[90m[conflicted]\u001b[39m Removing existing preference.\n",
      "\u001b[1m\u001b[22m\u001b[90m[conflicted]\u001b[39m Will prefer \u001b[1m\u001b[34mdplyr\u001b[39m\u001b[22m::filter over any other package.\n",
      "\u001b[1mRows: \u001b[22m\u001b[34m42\u001b[39m \u001b[1mColumns: \u001b[22m\u001b[34m27\u001b[39m\n",
      "\u001b[36m──\u001b[39m \u001b[1mColumn specification\u001b[22m \u001b[36m────────────────────────────────────────────────────────────────────────────────────────────────\u001b[39m\n",
      "\u001b[1mDelimiter:\u001b[22m \",\"\n",
      "\u001b[31mchr\u001b[39m (20): IndicatorCode, Indicator, ValueType, ParentLocationCode, ParentLoc...\n",
      "\u001b[32mdbl\u001b[39m  (7): Period, Year, Year.1, Deprivation Score, Income Deprivation, Educa...\n",
      "\n",
      "\u001b[36mℹ\u001b[39m Use `spec()` to retrieve the full column specification for this data.\n",
      "\u001b[36mℹ\u001b[39m Specify the column types or set `show_col_types = FALSE` to quiet this message.\n"
     ]
    },
    {
     "name": "stdout",
     "output_type": "stream",
     "text": [
      "\u001b[90m# A tibble: 42 × 2\u001b[39m\n",
      "   Country                n\n",
      "   \u001b[3m\u001b[90m<chr>\u001b[39m\u001b[23m              \u001b[3m\u001b[90m<int>\u001b[39m\u001b[23m\n",
      "\u001b[90m 1\u001b[39m Argentina              1\n",
      "\u001b[90m 2\u001b[39m Armenia                1\n",
      "\u001b[90m 3\u001b[39m Australia              1\n",
      "\u001b[90m 4\u001b[39m Bangladesh             1\n",
      "\u001b[90m 5\u001b[39m Belarus                1\n",
      "\u001b[90m 6\u001b[39m Benin                  1\n",
      "\u001b[90m 7\u001b[39m Colombia               1\n",
      "\u001b[90m 8\u001b[39m Costa Rica             1\n",
      "\u001b[90m 9\u001b[39m Cote d'Ivoire          1\n",
      "\u001b[90m10\u001b[39m Croatia                1\n",
      "\u001b[90m11\u001b[39m Dominican Republic     1\n",
      "\u001b[90m12\u001b[39m Ecuador                1\n",
      "\u001b[90m13\u001b[39m El Salvador            1\n",
      "\u001b[90m14\u001b[39m Georgia                1\n",
      "\u001b[90m15\u001b[39m Germany                1\n",
      "\u001b[90m16\u001b[39m Guinea-Bissau          1\n",
      "\u001b[90m17\u001b[39m Honduras               1\n",
      "\u001b[90m18\u001b[39m Israel                 1\n",
      "\u001b[90m19\u001b[39m Kazakhstan             1\n",
      "\u001b[90m20\u001b[39m Kenya                  1\n",
      "\u001b[90m21\u001b[39m Malawi                 1\n",
      "\u001b[90m22\u001b[39m Mexico                 1\n",
      "\u001b[90m23\u001b[39m Mongolia               1\n",
      "\u001b[90m24\u001b[39m Nepal                  1\n",
      "\u001b[90m25\u001b[39m North Macedonia        1\n",
      "\u001b[90m26\u001b[39m Pakistan               1\n",
      "\u001b[90m27\u001b[39m Panama                 1\n",
      "\u001b[90m28\u001b[39m Paraguay               1\n",
      "\u001b[90m29\u001b[39m Peru                   1\n",
      "\u001b[90m30\u001b[39m Poland                 1\n",
      "\u001b[90m31\u001b[39m Romania                1\n",
      "\u001b[90m32\u001b[39m Russian Federation     1\n",
      "\u001b[90m33\u001b[39m Serbia                 1\n",
      "\u001b[90m34\u001b[39m Suriname               1\n",
      "\u001b[90m35\u001b[39m Tonga                  1\n",
      "\u001b[90m36\u001b[39m Tunisia                1\n",
      "\u001b[90m37\u001b[39m Ukraine                1\n",
      "\u001b[90m38\u001b[39m Uruguay                1\n",
      "\u001b[90m39\u001b[39m Uzbekistan             1\n",
      "\u001b[90m40\u001b[39m Vanuatu                1\n",
      "\u001b[90m41\u001b[39m Viet Nam               1\n",
      "\u001b[90m42\u001b[39m Zambia                 1\n",
      "Levels in 'Country' factor:\n",
      "\n",
      "         Argentina            Armenia          Australia         Bangladesh \n",
      "                 1                  1                  1                  1 \n",
      "           Belarus              Benin           Colombia         Costa Rica \n",
      "                 1                  1                  1                  1 \n",
      "     Cote d'Ivoire            Croatia Dominican Republic            Ecuador \n",
      "                 1                  1                  1                  1 \n",
      "       El Salvador            Georgia            Germany      Guinea-Bissau \n",
      "                 1                  1                  1                  1 \n",
      "          Honduras             Israel         Kazakhstan              Kenya \n",
      "                 1                  1                  1                  1 \n",
      "            Malawi             Mexico           Mongolia              Nepal \n",
      "                 1                  1                  1                  1 \n",
      "   North Macedonia           Pakistan             Panama           Paraguay \n",
      "                 1                  1                  1                  1 \n",
      "              Peru             Poland            Romania Russian Federation \n",
      "                 1                  1                  1                  1 \n",
      "            Serbia           Suriname              Tonga            Tunisia \n",
      "                 1                  1                  1                  1 \n",
      "           Ukraine            Uruguay         Uzbekistan            Vanuatu \n",
      "                 1                  1                  1                  1 \n",
      "          Viet Nam             Zambia \n",
      "                 1                  1 \n",
      "Levels in 'Year' factor:\n",
      "\n",
      "2010 2015 2022 \n",
      "  36    4    2 \n"
     ]
    },
    {
     "name": "stderr",
     "output_type": "stream",
     "text": [
      "Warning message:\n",
      "\"\u001b[1m\u001b[22mThere was 1 warning in `mutate()`.\n",
      "\u001b[1m\u001b[22m\u001b[36mℹ\u001b[39m In argument: `Value = as.numeric(Value)`.\n",
      "Caused by warning:\n",
      "\u001b[33m!\u001b[39m NAs introduced by coercion\"\n"
     ]
    },
    {
     "name": "stdout",
     "output_type": "stream",
     "text": [
      "Number of levels in 'Country':  42 \n",
      "Number of levels in 'Year':  3 \n",
      "Number of rows after cleaning:  42 \n",
      "Checking if 'Income Deprivation' and 'Value' are constant...\n",
      "Unique values in 'Income Deprivation':  40 \n",
      "Unique values in 'Value':  1 \n",
      "'Value' had only one unique value, so it has been removed.\n",
      "Running fixed-effects model...\n"
     ]
    },
    {
     "ename": "ERROR",
     "evalue": "Error in eval(predvars, data, env): object 'Value' not found\n",
     "output_type": "error",
     "traceback": [
      "Error in eval(predvars, data, env): object 'Value' not found\nTraceback:\n",
      "1. eval(mf, parent.frame())",
      "2. eval(mf, parent.frame())",
      "3. stats::model.frame(formula = Value ~ `Income Deprivation` + Country + \n .     Year, data = cleaned_data, drop.unused.levels = TRUE)",
      "4. model.frame.default(formula = Value ~ `Income Deprivation` + \n .     Country + Year, data = cleaned_data, drop.unused.levels = TRUE)",
      "5. eval(predvars, data, env)",
      "6. eval(predvars, data, env)",
      "7. .handleSimpleError(function (cnd) \n . {\n .     watcher$capture_plot_and_output()\n .     cnd <- sanitize_call(cnd)\n .     watcher$push(cnd)\n .     switch(on_error, continue = invokeRestart(\"eval_continue\"), \n .         stop = invokeRestart(\"eval_stop\"), error = NULL)\n . }, \"object 'Value' not found\", base::quote(eval(predvars, data, \n .     env)))"
     ]
    }
   ],
   "source": [
    "# filter globally\n",
    "conflicts_prefer(dplyr::filter)\n",
    "\n",
    "# Load merged data directly from CSV\n",
    "merged_data <- read_csv(\"merged_hiv_poverty.csv\")\n",
    "\n",
    "# Count observations per country\n",
    "merged_data %>% \n",
    "  count(Country) %>% \n",
    "  print(n = Inf)\n",
    "\n",
    "# Clean data\n",
    "cleaned_data <- merged_data %>%\n",
    "  filter(!is.na(Value) & !is.na(`Income Deprivation`) & !is.na(Country) & !is.na(Year))\n",
    "\n",
    "# Check levels of 'Country' and 'Year' after cleaning\n",
    "cat(\"Levels in 'Country' factor:\\n\")\n",
    "print(table(cleaned_data$Country))\n",
    "\n",
    "cat(\"Levels in 'Year' factor:\\n\")\n",
    "print(table(cleaned_data$Year))\n",
    "\n",
    "\n",
    "cleaned_data <- cleaned_data %>%\n",
    "  mutate(\n",
    "    `Income Deprivation` = as.numeric(`Income Deprivation`),\n",
    "    Value = as.numeric(Value),\n",
    "    Country = factor(Country),\n",
    "    Year = factor(Year)\n",
    "  )\n",
    "\n",
    "\n",
    "cat(\"Number of levels in 'Country': \", nlevels(cleaned_data$Country), \"\\n\")\n",
    "cat(\"Number of levels in 'Year': \", nlevels(cleaned_data$Year), \"\\n\")\n",
    "\n",
    "if(nlevels(cleaned_data$Country) <= 1) {\n",
    "  cat(\"'Country' has only one level. Removing 'Country' from the model.\\n\")\n",
    "  cleaned_data <- cleaned_data %>% select(-Country)\n",
    "}\n",
    "\n",
    "if(nlevels(cleaned_data$Year) <= 1) {\n",
    "  cat(\"'Year' has only one level. Removing 'Year' from the model.\\n\")\n",
    "  cleaned_data <- cleaned_data %>% select(-Year)\n",
    "}\n",
    "\n",
    "# Check the number of rows after cleaning\n",
    "cat(\"Number of rows after cleaning: \", nrow(cleaned_data), \"\\n\")\n",
    "\n",
    "\n",
    "cat(\"Checking if 'Income Deprivation' and 'Value' are constant...\\n\")\n",
    "cat(\"Unique values in 'Income Deprivation': \", length(unique(cleaned_data$`Income Deprivation`)), \"\\n\")\n",
    "cat(\"Unique values in 'Value': \", length(unique(cleaned_data$Value)), \"\\n\")\n",
    "\n",
    "\n",
    "if(length(unique(cleaned_data$`Income Deprivation`)) == 1) {\n",
    "  cleaned_data <- cleaned_data %>% select(-`Income Deprivation`)\n",
    "  cat(\"'Income Deprivation' had only one unique value, so it has been removed.\\n\")\n",
    "}\n",
    "if(length(unique(cleaned_data$Value)) == 1) {\n",
    "  cleaned_data <- cleaned_data %>% select(-Value)\n",
    "  cat(\"'Value' had only one unique value, so it has been removed.\\n\")\n",
    "}\n",
    "\n",
    "\n",
    "cat(\"Running fixed-effects model...\\n\")\n",
    "final_model <- lm(Value ~ `Income Deprivation` + Country + Year, data = cleaned_data)\n",
    "\n",
    "# Display model summary\n",
    "summary(final_model)\n",
    "\n"
   ]
  },
  {
   "cell_type": "code",
   "execution_count": null,
   "id": "18b2f1f9-f407-4307-b0e4-0f4010f6ee35",
   "metadata": {},
   "outputs": [],
   "source": []
  }
 ],
 "metadata": {
  "kernelspec": {
   "display_name": "R",
   "language": "R",
   "name": "ir"
  },
  "language_info": {
   "codemirror_mode": "r",
   "file_extension": ".r",
   "mimetype": "text/x-r-source",
   "name": "R",
   "pygments_lexer": "r",
   "version": "4.5.0"
  }
 },
 "nbformat": 4,
 "nbformat_minor": 5
}
